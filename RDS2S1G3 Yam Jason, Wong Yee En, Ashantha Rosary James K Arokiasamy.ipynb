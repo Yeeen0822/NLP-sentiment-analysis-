{
 "cells": [
  {
   "cell_type": "code",
   "execution_count": 23,
   "id": "c89ab4c8",
   "metadata": {},
   "outputs": [],
   "source": [
    "import nltk\n",
    "# nltk.download() <-- Run this if it's your first time using nltk to download all of the datasets and models\n",
    "import pandas as pd\n",
    "import re"
   ]
  },
  {
   "cell_type": "code",
   "execution_count": 24,
   "id": "0a5f2965",
   "metadata": {},
   "outputs": [],
   "source": [
    "df1 = pd.read_csv(\"Slipper.csv\")\n",
    "df2 = pd.read_csv(\"Slipper2.csv\")"
   ]
  },
  {
   "cell_type": "code",
   "execution_count": 25,
   "id": "35f120ef",
   "metadata": {},
   "outputs": [
    {
     "data": {
      "text/html": [
       "<div>\n",
       "<style scoped>\n",
       "    .dataframe tbody tr th:only-of-type {\n",
       "        vertical-align: middle;\n",
       "    }\n",
       "\n",
       "    .dataframe tbody tr th {\n",
       "        vertical-align: top;\n",
       "    }\n",
       "\n",
       "    .dataframe thead th {\n",
       "        text-align: right;\n",
       "    }\n",
       "</style>\n",
       "<table border=\"1\" class=\"dataframe\">\n",
       "  <thead>\n",
       "    <tr style=\"text-align: right;\">\n",
       "      <th></th>\n",
       "      <th>content</th>\n",
       "    </tr>\n",
       "  </thead>\n",
       "  <tbody>\n",
       "    <tr>\n",
       "      <th>0</th>\n",
       "      <td>Received items not the same as advertised.\\nTh...</td>\n",
       "    </tr>\n",
       "    <tr>\n",
       "      <th>1</th>\n",
       "      <td>the item not as advertised</td>\n",
       "    </tr>\n",
       "    <tr>\n",
       "      <th>2</th>\n",
       "      <td>dalam gambar tebal dah terima selipar tipis..b...</td>\n",
       "    </tr>\n",
       "    <tr>\n",
       "      <th>3</th>\n",
       "      <td>order green dapat Oren, sad.</td>\n",
       "    </tr>\n",
       "    <tr>\n",
       "      <th>4</th>\n",
       "      <td>oder black and green but arrived black and yel...</td>\n",
       "    </tr>\n",
       "  </tbody>\n",
       "</table>\n",
       "</div>"
      ],
      "text/plain": [
       "                                             content\n",
       "0  Received items not the same as advertised.\\nTh...\n",
       "1                         the item not as advertised\n",
       "2  dalam gambar tebal dah terima selipar tipis..b...\n",
       "3                       order green dapat Oren, sad.\n",
       "4  oder black and green but arrived black and yel..."
      ]
     },
     "execution_count": 25,
     "metadata": {},
     "output_type": "execute_result"
    }
   ],
   "source": [
    "data = pd.concat([df1, df2], ignore_index=True)\n",
    "data.head()"
   ]
  },
  {
   "cell_type": "code",
   "execution_count": 26,
   "id": "c70d0f1a",
   "metadata": {},
   "outputs": [
    {
     "name": "stdout",
     "output_type": "stream",
     "text": [
      "<class 'pandas.core.frame.DataFrame'>\n",
      "RangeIndex: 1001 entries, 0 to 1000\n",
      "Data columns (total 1 columns):\n",
      " #   Column   Non-Null Count  Dtype \n",
      "---  ------   --------------  ----- \n",
      " 0   content  1001 non-null   object\n",
      "dtypes: object(1)\n",
      "memory usage: 7.9+ KB\n"
     ]
    }
   ],
   "source": [
    "data.info()"
   ]
  },
  {
   "cell_type": "code",
   "execution_count": 27,
   "id": "32a0bc30",
   "metadata": {},
   "outputs": [
    {
     "name": "stdout",
     "output_type": "stream",
     "text": [
      "Shape of data=> (1001, 1)\n"
     ]
    }
   ],
   "source": [
    "print(\"Shape of data=>\",data.shape)"
   ]
  },
  {
   "cell_type": "code",
   "execution_count": 28,
   "id": "34a89b6e",
   "metadata": {},
   "outputs": [
    {
     "data": {
      "text/plain": [
       "content    0\n",
       "dtype: int64"
      ]
     },
     "execution_count": 28,
     "metadata": {},
     "output_type": "execute_result"
    }
   ],
   "source": [
    "data.isnull().sum()"
   ]
  },
  {
   "cell_type": "code",
   "execution_count": 29,
   "id": "5abc6045",
   "metadata": {},
   "outputs": [
    {
     "name": "stdout",
     "output_type": "stream",
     "text": [
      "\n",
      "Review 1:\n",
      " Nipis sikit x sama macam model yg tebal 4inch tu 😝😅😢😞\n",
      "\n",
      "Review 2:\n",
      " Design:selipar dia nampak nipis sbb dlm gmbr mcm tebal\n",
      "\n",
      "Review 3:\n",
      " Size:  order size 36/37 , yg dapat 38/39 . Besar gilerrrrr , spoil mood nak buat pakai time bersalin nanti 😪 Chat seller , tak respon langsung . Padahal dah read baca tu , kalau size and colournya takde . Inform dulu customer , jgn main pos je size and colour lain pada customer !!!!!!!\n",
      "\n",
      "Review 4:\n",
      " nipis.. huhuu\n",
      "\n",
      "Review 5:\n",
      " I bought creamy green colour but i received sharp yellow. Dissapointed Design:\n"
     ]
    }
   ],
   "source": [
    "for index,text in enumerate(data['content'][35:40]):\n",
    "  print('\\nReview %d:\\n'%(index+1),text)"
   ]
  },
  {
   "cell_type": "code",
   "execution_count": 30,
   "id": "28fc10fb",
   "metadata": {},
   "outputs": [
    {
     "data": {
      "text/html": [
       "<style type=\"text/css\">\n",
       "#T_96aa4_row0_col1 {\n",
       "  background-color: #08306b;\n",
       "  color: #f1f1f1;\n",
       "}\n",
       "#T_96aa4_row1_col1 {\n",
       "  background-color: #65aad4;\n",
       "  color: #f1f1f1;\n",
       "}\n",
       "#T_96aa4_row2_col1 {\n",
       "  background-color: #9cc9e1;\n",
       "  color: #000000;\n",
       "}\n",
       "#T_96aa4_row3_col1 {\n",
       "  background-color: #bdd7ec;\n",
       "  color: #000000;\n",
       "}\n",
       "#T_96aa4_row4_col1 {\n",
       "  background-color: #bed8ec;\n",
       "  color: #000000;\n",
       "}\n",
       "#T_96aa4_row5_col1 {\n",
       "  background-color: #dce9f6;\n",
       "  color: #000000;\n",
       "}\n",
       "#T_96aa4_row6_col1 {\n",
       "  background-color: #dceaf6;\n",
       "  color: #000000;\n",
       "}\n",
       "#T_96aa4_row7_col1 {\n",
       "  background-color: #dfebf7;\n",
       "  color: #000000;\n",
       "}\n",
       "#T_96aa4_row8_col1 {\n",
       "  background-color: #e7f0fa;\n",
       "  color: #000000;\n",
       "}\n",
       "#T_96aa4_row9_col1 {\n",
       "  background-color: #eaf3fb;\n",
       "  color: #000000;\n",
       "}\n",
       "#T_96aa4_row10_col1 {\n",
       "  background-color: #ebf3fb;\n",
       "  color: #000000;\n",
       "}\n",
       "#T_96aa4_row11_col1 {\n",
       "  background-color: #ecf4fb;\n",
       "  color: #000000;\n",
       "}\n",
       "#T_96aa4_row12_col1 {\n",
       "  background-color: #eef5fc;\n",
       "  color: #000000;\n",
       "}\n",
       "#T_96aa4_row13_col1 {\n",
       "  background-color: #f0f6fd;\n",
       "  color: #000000;\n",
       "}\n",
       "#T_96aa4_row14_col1 {\n",
       "  background-color: #f2f7fd;\n",
       "  color: #000000;\n",
       "}\n",
       "#T_96aa4_row15_col1 {\n",
       "  background-color: #f4f9fe;\n",
       "  color: #000000;\n",
       "}\n",
       "#T_96aa4_row16_col1 {\n",
       "  background-color: #f5f9fe;\n",
       "  color: #000000;\n",
       "}\n",
       "#T_96aa4_row17_col1 {\n",
       "  background-color: #f5fafe;\n",
       "  color: #000000;\n",
       "}\n",
       "#T_96aa4_row18_col1 {\n",
       "  background-color: #f6faff;\n",
       "  color: #000000;\n",
       "}\n",
       "#T_96aa4_row19_col1 {\n",
       "  background-color: #f7fbff;\n",
       "  color: #000000;\n",
       "}\n",
       "</style>\n",
       "<table id=\"T_96aa4\">\n",
       "  <thead>\n",
       "    <tr>\n",
       "      <th class=\"blank level0\" >&nbsp;</th>\n",
       "      <th id=\"T_96aa4_level0_col0\" class=\"col_heading level0 col0\" >Common_words</th>\n",
       "      <th id=\"T_96aa4_level0_col1\" class=\"col_heading level0 col1\" >count</th>\n",
       "    </tr>\n",
       "  </thead>\n",
       "  <tbody>\n",
       "    <tr>\n",
       "      <th id=\"T_96aa4_level0_row0\" class=\"row_heading level0 row0\" >0</th>\n",
       "      <td id=\"T_96aa4_row0_col0\" class=\"data row0 col0\" >good</td>\n",
       "      <td id=\"T_96aa4_row0_col1\" class=\"data row0 col1\" >272</td>\n",
       "    </tr>\n",
       "    <tr>\n",
       "      <th id=\"T_96aa4_level0_row1\" class=\"row_heading level0 row1\" >1</th>\n",
       "      <td id=\"T_96aa4_row1_col0\" class=\"data row1 col0\" >and</td>\n",
       "      <td id=\"T_96aa4_row1_col1\" class=\"data row1 col1\" >167</td>\n",
       "    </tr>\n",
       "    <tr>\n",
       "      <th id=\"T_96aa4_level0_row2\" class=\"row_heading level0 row2\" >2</th>\n",
       "      <td id=\"T_96aa4_row2_col0\" class=\"data row2 col0\" >the</td>\n",
       "      <td id=\"T_96aa4_row2_col1\" class=\"data row2 col1\" >137</td>\n",
       "    </tr>\n",
       "    <tr>\n",
       "      <th id=\"T_96aa4_level0_row3\" class=\"row_heading level0 row3\" >3</th>\n",
       "      <td id=\"T_96aa4_row3_col0\" class=\"data row3 col0\" >for</td>\n",
       "      <td id=\"T_96aa4_row3_col1\" class=\"data row3 col1\" >115</td>\n",
       "    </tr>\n",
       "    <tr>\n",
       "      <th id=\"T_96aa4_level0_row4\" class=\"row_heading level0 row4\" >4</th>\n",
       "      <td id=\"T_96aa4_row4_col0\" class=\"data row4 col0\" >is</td>\n",
       "      <td id=\"T_96aa4_row4_col1\" class=\"data row4 col1\" >114</td>\n",
       "    </tr>\n",
       "    <tr>\n",
       "      <th id=\"T_96aa4_level0_row5\" class=\"row_heading level0 row5\" >5</th>\n",
       "      <td id=\"T_96aa4_row5_col0\" class=\"data row5 col0\" >to</td>\n",
       "      <td id=\"T_96aa4_row5_col1\" class=\"data row5 col1\" >84</td>\n",
       "    </tr>\n",
       "    <tr>\n",
       "      <th id=\"T_96aa4_level0_row6\" class=\"row_heading level0 row6\" >6</th>\n",
       "      <td id=\"T_96aa4_row6_col0\" class=\"data row6 col0\" >in</td>\n",
       "      <td id=\"T_96aa4_row6_col1\" class=\"data row6 col1\" >83</td>\n",
       "    </tr>\n",
       "    <tr>\n",
       "      <th id=\"T_96aa4_level0_row7\" class=\"row_heading level0 row7\" >7</th>\n",
       "      <td id=\"T_96aa4_row7_col0\" class=\"data row7 col0\" >ok</td>\n",
       "      <td id=\"T_96aa4_row7_col1\" class=\"data row7 col1\" >81</td>\n",
       "    </tr>\n",
       "    <tr>\n",
       "      <th id=\"T_96aa4_level0_row8\" class=\"row_heading level0 row8\" >8</th>\n",
       "      <td id=\"T_96aa4_row8_col0\" class=\"data row8 col0\" >seller</td>\n",
       "      <td id=\"T_96aa4_row8_col1\" class=\"data row8 col1\" >72</td>\n",
       "    </tr>\n",
       "    <tr>\n",
       "      <th id=\"T_96aa4_level0_row9\" class=\"row_heading level0 row9\" >9</th>\n",
       "      <td id=\"T_96aa4_row9_col0\" class=\"data row9 col0\" >not</td>\n",
       "      <td id=\"T_96aa4_row9_col1\" class=\"data row9 col1\" >68</td>\n",
       "    </tr>\n",
       "    <tr>\n",
       "      <th id=\"T_96aa4_level0_row10\" class=\"row_heading level0 row10\" >10</th>\n",
       "      <td id=\"T_96aa4_row10_col0\" class=\"data row10 col0\" >size</td>\n",
       "      <td id=\"T_96aa4_row10_col1\" class=\"data row10 col1\" >67</td>\n",
       "    </tr>\n",
       "    <tr>\n",
       "      <th id=\"T_96aa4_level0_row11\" class=\"row_heading level0 row11\" >11</th>\n",
       "      <td id=\"T_96aa4_row11_col0\" class=\"data row11 col0\" >delivery</td>\n",
       "      <td id=\"T_96aa4_row11_col1\" class=\"data row11 col1\" >66</td>\n",
       "    </tr>\n",
       "    <tr>\n",
       "      <th id=\"T_96aa4_level0_row12\" class=\"row_heading level0 row12\" >12</th>\n",
       "      <td id=\"T_96aa4_row12_col0\" class=\"data row12 col0\" >very</td>\n",
       "      <td id=\"T_96aa4_row12_col1\" class=\"data row12 col1\" >65</td>\n",
       "    </tr>\n",
       "    <tr>\n",
       "      <th id=\"T_96aa4_level0_row13\" class=\"row_heading level0 row13\" >13</th>\n",
       "      <td id=\"T_96aa4_row13_col0\" class=\"data row13 col0\" >received</td>\n",
       "      <td id=\"T_96aa4_row13_col1\" class=\"data row13 col1\" >62</td>\n",
       "    </tr>\n",
       "    <tr>\n",
       "      <th id=\"T_96aa4_level0_row14\" class=\"row_heading level0 row14\" >14</th>\n",
       "      <td id=\"T_96aa4_row14_col0\" class=\"data row14 col0\" >Good</td>\n",
       "      <td id=\"T_96aa4_row14_col1\" class=\"data row14 col1\" >60</td>\n",
       "    </tr>\n",
       "    <tr>\n",
       "      <th id=\"T_96aa4_level0_row15\" class=\"row_heading level0 row15\" >15</th>\n",
       "      <td id=\"T_96aa4_row15_col0\" class=\"data row15 col0\" >fast</td>\n",
       "      <td id=\"T_96aa4_row15_col1\" class=\"data row15 col1\" >58</td>\n",
       "    </tr>\n",
       "    <tr>\n",
       "      <th id=\"T_96aa4_level0_row16\" class=\"row_heading level0 row16\" >16</th>\n",
       "      <td id=\"T_96aa4_row16_col0\" class=\"data row16 col0\" >sampai</td>\n",
       "      <td id=\"T_96aa4_row16_col1\" class=\"data row16 col1\" >57</td>\n",
       "    </tr>\n",
       "    <tr>\n",
       "      <th id=\"T_96aa4_level0_row17\" class=\"row_heading level0 row17\" >17</th>\n",
       "      <td id=\"T_96aa4_row17_col0\" class=\"data row17 col0\" >as</td>\n",
       "      <td id=\"T_96aa4_row17_col1\" class=\"data row17 col1\" >56</td>\n",
       "    </tr>\n",
       "    <tr>\n",
       "      <th id=\"T_96aa4_level0_row18\" class=\"row_heading level0 row18\" >18</th>\n",
       "      <td id=\"T_96aa4_row18_col0\" class=\"data row18 col0\" >but</td>\n",
       "      <td id=\"T_96aa4_row18_col1\" class=\"data row18 col1\" >55</td>\n",
       "    </tr>\n",
       "    <tr>\n",
       "      <th id=\"T_96aa4_level0_row19\" class=\"row_heading level0 row19\" >19</th>\n",
       "      <td id=\"T_96aa4_row19_col0\" class=\"data row19 col0\" >you</td>\n",
       "      <td id=\"T_96aa4_row19_col1\" class=\"data row19 col1\" >54</td>\n",
       "    </tr>\n",
       "  </tbody>\n",
       "</table>\n"
      ],
      "text/plain": [
       "<pandas.io.formats.style.Styler at 0x1eda74c2be0>"
      ]
     },
     "execution_count": 30,
     "metadata": {},
     "output_type": "execute_result"
    }
   ],
   "source": [
    "from collections import Counter\n",
    "data['temp_list'] = data['content'].apply(lambda x:str(x).split())\n",
    "top = Counter([item for sublist in data['temp_list'] for item in sublist])\n",
    "temp = pd.DataFrame(top.most_common(20))\n",
    "temp.columns = ['Common_words','count']\n",
    "temp.style.background_gradient(cmap='Blues')"
   ]
  },
  {
   "cell_type": "code",
   "execution_count": 31,
   "id": "8135894e",
   "metadata": {},
   "outputs": [
    {
     "data": {
      "application/vnd.plotly.v1+json": {
       "config": {
        "plotlyServerURL": "https://plot.ly"
       },
       "data": [
        {
         "alignmentgroup": "True",
         "hovertemplate": "Common_words=%{y}<br>count=%{x}<extra></extra>",
         "legendgroup": "good",
         "marker": {
          "color": "#636efa",
          "pattern": {
           "shape": ""
          }
         },
         "name": "good",
         "offsetgroup": "good",
         "orientation": "h",
         "showlegend": true,
         "textposition": "auto",
         "type": "bar",
         "x": [
          272
         ],
         "xaxis": "x",
         "y": [
          "good"
         ],
         "yaxis": "y"
        },
        {
         "alignmentgroup": "True",
         "hovertemplate": "Common_words=%{y}<br>count=%{x}<extra></extra>",
         "legendgroup": "and",
         "marker": {
          "color": "#EF553B",
          "pattern": {
           "shape": ""
          }
         },
         "name": "and",
         "offsetgroup": "and",
         "orientation": "h",
         "showlegend": true,
         "textposition": "auto",
         "type": "bar",
         "x": [
          167
         ],
         "xaxis": "x",
         "y": [
          "and"
         ],
         "yaxis": "y"
        },
        {
         "alignmentgroup": "True",
         "hovertemplate": "Common_words=%{y}<br>count=%{x}<extra></extra>",
         "legendgroup": "the",
         "marker": {
          "color": "#00cc96",
          "pattern": {
           "shape": ""
          }
         },
         "name": "the",
         "offsetgroup": "the",
         "orientation": "h",
         "showlegend": true,
         "textposition": "auto",
         "type": "bar",
         "x": [
          137
         ],
         "xaxis": "x",
         "y": [
          "the"
         ],
         "yaxis": "y"
        },
        {
         "alignmentgroup": "True",
         "hovertemplate": "Common_words=%{y}<br>count=%{x}<extra></extra>",
         "legendgroup": "for",
         "marker": {
          "color": "#ab63fa",
          "pattern": {
           "shape": ""
          }
         },
         "name": "for",
         "offsetgroup": "for",
         "orientation": "h",
         "showlegend": true,
         "textposition": "auto",
         "type": "bar",
         "x": [
          115
         ],
         "xaxis": "x",
         "y": [
          "for"
         ],
         "yaxis": "y"
        },
        {
         "alignmentgroup": "True",
         "hovertemplate": "Common_words=%{y}<br>count=%{x}<extra></extra>",
         "legendgroup": "is",
         "marker": {
          "color": "#FFA15A",
          "pattern": {
           "shape": ""
          }
         },
         "name": "is",
         "offsetgroup": "is",
         "orientation": "h",
         "showlegend": true,
         "textposition": "auto",
         "type": "bar",
         "x": [
          114
         ],
         "xaxis": "x",
         "y": [
          "is"
         ],
         "yaxis": "y"
        },
        {
         "alignmentgroup": "True",
         "hovertemplate": "Common_words=%{y}<br>count=%{x}<extra></extra>",
         "legendgroup": "to",
         "marker": {
          "color": "#19d3f3",
          "pattern": {
           "shape": ""
          }
         },
         "name": "to",
         "offsetgroup": "to",
         "orientation": "h",
         "showlegend": true,
         "textposition": "auto",
         "type": "bar",
         "x": [
          84
         ],
         "xaxis": "x",
         "y": [
          "to"
         ],
         "yaxis": "y"
        },
        {
         "alignmentgroup": "True",
         "hovertemplate": "Common_words=%{y}<br>count=%{x}<extra></extra>",
         "legendgroup": "in",
         "marker": {
          "color": "#FF6692",
          "pattern": {
           "shape": ""
          }
         },
         "name": "in",
         "offsetgroup": "in",
         "orientation": "h",
         "showlegend": true,
         "textposition": "auto",
         "type": "bar",
         "x": [
          83
         ],
         "xaxis": "x",
         "y": [
          "in"
         ],
         "yaxis": "y"
        },
        {
         "alignmentgroup": "True",
         "hovertemplate": "Common_words=%{y}<br>count=%{x}<extra></extra>",
         "legendgroup": "ok",
         "marker": {
          "color": "#B6E880",
          "pattern": {
           "shape": ""
          }
         },
         "name": "ok",
         "offsetgroup": "ok",
         "orientation": "h",
         "showlegend": true,
         "textposition": "auto",
         "type": "bar",
         "x": [
          81
         ],
         "xaxis": "x",
         "y": [
          "ok"
         ],
         "yaxis": "y"
        },
        {
         "alignmentgroup": "True",
         "hovertemplate": "Common_words=%{y}<br>count=%{x}<extra></extra>",
         "legendgroup": "seller",
         "marker": {
          "color": "#FF97FF",
          "pattern": {
           "shape": ""
          }
         },
         "name": "seller",
         "offsetgroup": "seller",
         "orientation": "h",
         "showlegend": true,
         "textposition": "auto",
         "type": "bar",
         "x": [
          72
         ],
         "xaxis": "x",
         "y": [
          "seller"
         ],
         "yaxis": "y"
        },
        {
         "alignmentgroup": "True",
         "hovertemplate": "Common_words=%{y}<br>count=%{x}<extra></extra>",
         "legendgroup": "not",
         "marker": {
          "color": "#FECB52",
          "pattern": {
           "shape": ""
          }
         },
         "name": "not",
         "offsetgroup": "not",
         "orientation": "h",
         "showlegend": true,
         "textposition": "auto",
         "type": "bar",
         "x": [
          68
         ],
         "xaxis": "x",
         "y": [
          "not"
         ],
         "yaxis": "y"
        },
        {
         "alignmentgroup": "True",
         "hovertemplate": "Common_words=%{y}<br>count=%{x}<extra></extra>",
         "legendgroup": "size",
         "marker": {
          "color": "#636efa",
          "pattern": {
           "shape": ""
          }
         },
         "name": "size",
         "offsetgroup": "size",
         "orientation": "h",
         "showlegend": true,
         "textposition": "auto",
         "type": "bar",
         "x": [
          67
         ],
         "xaxis": "x",
         "y": [
          "size"
         ],
         "yaxis": "y"
        },
        {
         "alignmentgroup": "True",
         "hovertemplate": "Common_words=%{y}<br>count=%{x}<extra></extra>",
         "legendgroup": "delivery",
         "marker": {
          "color": "#EF553B",
          "pattern": {
           "shape": ""
          }
         },
         "name": "delivery",
         "offsetgroup": "delivery",
         "orientation": "h",
         "showlegend": true,
         "textposition": "auto",
         "type": "bar",
         "x": [
          66
         ],
         "xaxis": "x",
         "y": [
          "delivery"
         ],
         "yaxis": "y"
        },
        {
         "alignmentgroup": "True",
         "hovertemplate": "Common_words=%{y}<br>count=%{x}<extra></extra>",
         "legendgroup": "very",
         "marker": {
          "color": "#00cc96",
          "pattern": {
           "shape": ""
          }
         },
         "name": "very",
         "offsetgroup": "very",
         "orientation": "h",
         "showlegend": true,
         "textposition": "auto",
         "type": "bar",
         "x": [
          65
         ],
         "xaxis": "x",
         "y": [
          "very"
         ],
         "yaxis": "y"
        },
        {
         "alignmentgroup": "True",
         "hovertemplate": "Common_words=%{y}<br>count=%{x}<extra></extra>",
         "legendgroup": "received",
         "marker": {
          "color": "#ab63fa",
          "pattern": {
           "shape": ""
          }
         },
         "name": "received",
         "offsetgroup": "received",
         "orientation": "h",
         "showlegend": true,
         "textposition": "auto",
         "type": "bar",
         "x": [
          62
         ],
         "xaxis": "x",
         "y": [
          "received"
         ],
         "yaxis": "y"
        },
        {
         "alignmentgroup": "True",
         "hovertemplate": "Common_words=%{y}<br>count=%{x}<extra></extra>",
         "legendgroup": "Good",
         "marker": {
          "color": "#FFA15A",
          "pattern": {
           "shape": ""
          }
         },
         "name": "Good",
         "offsetgroup": "Good",
         "orientation": "h",
         "showlegend": true,
         "textposition": "auto",
         "type": "bar",
         "x": [
          60
         ],
         "xaxis": "x",
         "y": [
          "Good"
         ],
         "yaxis": "y"
        },
        {
         "alignmentgroup": "True",
         "hovertemplate": "Common_words=%{y}<br>count=%{x}<extra></extra>",
         "legendgroup": "fast",
         "marker": {
          "color": "#19d3f3",
          "pattern": {
           "shape": ""
          }
         },
         "name": "fast",
         "offsetgroup": "fast",
         "orientation": "h",
         "showlegend": true,
         "textposition": "auto",
         "type": "bar",
         "x": [
          58
         ],
         "xaxis": "x",
         "y": [
          "fast"
         ],
         "yaxis": "y"
        },
        {
         "alignmentgroup": "True",
         "hovertemplate": "Common_words=%{y}<br>count=%{x}<extra></extra>",
         "legendgroup": "sampai",
         "marker": {
          "color": "#FF6692",
          "pattern": {
           "shape": ""
          }
         },
         "name": "sampai",
         "offsetgroup": "sampai",
         "orientation": "h",
         "showlegend": true,
         "textposition": "auto",
         "type": "bar",
         "x": [
          57
         ],
         "xaxis": "x",
         "y": [
          "sampai"
         ],
         "yaxis": "y"
        },
        {
         "alignmentgroup": "True",
         "hovertemplate": "Common_words=%{y}<br>count=%{x}<extra></extra>",
         "legendgroup": "as",
         "marker": {
          "color": "#B6E880",
          "pattern": {
           "shape": ""
          }
         },
         "name": "as",
         "offsetgroup": "as",
         "orientation": "h",
         "showlegend": true,
         "textposition": "auto",
         "type": "bar",
         "x": [
          56
         ],
         "xaxis": "x",
         "y": [
          "as"
         ],
         "yaxis": "y"
        },
        {
         "alignmentgroup": "True",
         "hovertemplate": "Common_words=%{y}<br>count=%{x}<extra></extra>",
         "legendgroup": "but",
         "marker": {
          "color": "#FF97FF",
          "pattern": {
           "shape": ""
          }
         },
         "name": "but",
         "offsetgroup": "but",
         "orientation": "h",
         "showlegend": true,
         "textposition": "auto",
         "type": "bar",
         "x": [
          55
         ],
         "xaxis": "x",
         "y": [
          "but"
         ],
         "yaxis": "y"
        },
        {
         "alignmentgroup": "True",
         "hovertemplate": "Common_words=%{y}<br>count=%{x}<extra></extra>",
         "legendgroup": "you",
         "marker": {
          "color": "#FECB52",
          "pattern": {
           "shape": ""
          }
         },
         "name": "you",
         "offsetgroup": "you",
         "orientation": "h",
         "showlegend": true,
         "textposition": "auto",
         "type": "bar",
         "x": [
          54
         ],
         "xaxis": "x",
         "y": [
          "you"
         ],
         "yaxis": "y"
        }
       ],
       "layout": {
        "barmode": "relative",
        "height": 700,
        "legend": {
         "title": {
          "text": "Common_words"
         },
         "tracegroupgap": 0
        },
        "template": {
         "data": {
          "bar": [
           {
            "error_x": {
             "color": "#2a3f5f"
            },
            "error_y": {
             "color": "#2a3f5f"
            },
            "marker": {
             "line": {
              "color": "#E5ECF6",
              "width": 0.5
             },
             "pattern": {
              "fillmode": "overlay",
              "size": 10,
              "solidity": 0.2
             }
            },
            "type": "bar"
           }
          ],
          "barpolar": [
           {
            "marker": {
             "line": {
              "color": "#E5ECF6",
              "width": 0.5
             },
             "pattern": {
              "fillmode": "overlay",
              "size": 10,
              "solidity": 0.2
             }
            },
            "type": "barpolar"
           }
          ],
          "carpet": [
           {
            "aaxis": {
             "endlinecolor": "#2a3f5f",
             "gridcolor": "white",
             "linecolor": "white",
             "minorgridcolor": "white",
             "startlinecolor": "#2a3f5f"
            },
            "baxis": {
             "endlinecolor": "#2a3f5f",
             "gridcolor": "white",
             "linecolor": "white",
             "minorgridcolor": "white",
             "startlinecolor": "#2a3f5f"
            },
            "type": "carpet"
           }
          ],
          "choropleth": [
           {
            "colorbar": {
             "outlinewidth": 0,
             "ticks": ""
            },
            "type": "choropleth"
           }
          ],
          "contour": [
           {
            "colorbar": {
             "outlinewidth": 0,
             "ticks": ""
            },
            "colorscale": [
             [
              0,
              "#0d0887"
             ],
             [
              0.1111111111111111,
              "#46039f"
             ],
             [
              0.2222222222222222,
              "#7201a8"
             ],
             [
              0.3333333333333333,
              "#9c179e"
             ],
             [
              0.4444444444444444,
              "#bd3786"
             ],
             [
              0.5555555555555556,
              "#d8576b"
             ],
             [
              0.6666666666666666,
              "#ed7953"
             ],
             [
              0.7777777777777778,
              "#fb9f3a"
             ],
             [
              0.8888888888888888,
              "#fdca26"
             ],
             [
              1,
              "#f0f921"
             ]
            ],
            "type": "contour"
           }
          ],
          "contourcarpet": [
           {
            "colorbar": {
             "outlinewidth": 0,
             "ticks": ""
            },
            "type": "contourcarpet"
           }
          ],
          "heatmap": [
           {
            "colorbar": {
             "outlinewidth": 0,
             "ticks": ""
            },
            "colorscale": [
             [
              0,
              "#0d0887"
             ],
             [
              0.1111111111111111,
              "#46039f"
             ],
             [
              0.2222222222222222,
              "#7201a8"
             ],
             [
              0.3333333333333333,
              "#9c179e"
             ],
             [
              0.4444444444444444,
              "#bd3786"
             ],
             [
              0.5555555555555556,
              "#d8576b"
             ],
             [
              0.6666666666666666,
              "#ed7953"
             ],
             [
              0.7777777777777778,
              "#fb9f3a"
             ],
             [
              0.8888888888888888,
              "#fdca26"
             ],
             [
              1,
              "#f0f921"
             ]
            ],
            "type": "heatmap"
           }
          ],
          "heatmapgl": [
           {
            "colorbar": {
             "outlinewidth": 0,
             "ticks": ""
            },
            "colorscale": [
             [
              0,
              "#0d0887"
             ],
             [
              0.1111111111111111,
              "#46039f"
             ],
             [
              0.2222222222222222,
              "#7201a8"
             ],
             [
              0.3333333333333333,
              "#9c179e"
             ],
             [
              0.4444444444444444,
              "#bd3786"
             ],
             [
              0.5555555555555556,
              "#d8576b"
             ],
             [
              0.6666666666666666,
              "#ed7953"
             ],
             [
              0.7777777777777778,
              "#fb9f3a"
             ],
             [
              0.8888888888888888,
              "#fdca26"
             ],
             [
              1,
              "#f0f921"
             ]
            ],
            "type": "heatmapgl"
           }
          ],
          "histogram": [
           {
            "marker": {
             "pattern": {
              "fillmode": "overlay",
              "size": 10,
              "solidity": 0.2
             }
            },
            "type": "histogram"
           }
          ],
          "histogram2d": [
           {
            "colorbar": {
             "outlinewidth": 0,
             "ticks": ""
            },
            "colorscale": [
             [
              0,
              "#0d0887"
             ],
             [
              0.1111111111111111,
              "#46039f"
             ],
             [
              0.2222222222222222,
              "#7201a8"
             ],
             [
              0.3333333333333333,
              "#9c179e"
             ],
             [
              0.4444444444444444,
              "#bd3786"
             ],
             [
              0.5555555555555556,
              "#d8576b"
             ],
             [
              0.6666666666666666,
              "#ed7953"
             ],
             [
              0.7777777777777778,
              "#fb9f3a"
             ],
             [
              0.8888888888888888,
              "#fdca26"
             ],
             [
              1,
              "#f0f921"
             ]
            ],
            "type": "histogram2d"
           }
          ],
          "histogram2dcontour": [
           {
            "colorbar": {
             "outlinewidth": 0,
             "ticks": ""
            },
            "colorscale": [
             [
              0,
              "#0d0887"
             ],
             [
              0.1111111111111111,
              "#46039f"
             ],
             [
              0.2222222222222222,
              "#7201a8"
             ],
             [
              0.3333333333333333,
              "#9c179e"
             ],
             [
              0.4444444444444444,
              "#bd3786"
             ],
             [
              0.5555555555555556,
              "#d8576b"
             ],
             [
              0.6666666666666666,
              "#ed7953"
             ],
             [
              0.7777777777777778,
              "#fb9f3a"
             ],
             [
              0.8888888888888888,
              "#fdca26"
             ],
             [
              1,
              "#f0f921"
             ]
            ],
            "type": "histogram2dcontour"
           }
          ],
          "mesh3d": [
           {
            "colorbar": {
             "outlinewidth": 0,
             "ticks": ""
            },
            "type": "mesh3d"
           }
          ],
          "parcoords": [
           {
            "line": {
             "colorbar": {
              "outlinewidth": 0,
              "ticks": ""
             }
            },
            "type": "parcoords"
           }
          ],
          "pie": [
           {
            "automargin": true,
            "type": "pie"
           }
          ],
          "scatter": [
           {
            "fillpattern": {
             "fillmode": "overlay",
             "size": 10,
             "solidity": 0.2
            },
            "type": "scatter"
           }
          ],
          "scatter3d": [
           {
            "line": {
             "colorbar": {
              "outlinewidth": 0,
              "ticks": ""
             }
            },
            "marker": {
             "colorbar": {
              "outlinewidth": 0,
              "ticks": ""
             }
            },
            "type": "scatter3d"
           }
          ],
          "scattercarpet": [
           {
            "marker": {
             "colorbar": {
              "outlinewidth": 0,
              "ticks": ""
             }
            },
            "type": "scattercarpet"
           }
          ],
          "scattergeo": [
           {
            "marker": {
             "colorbar": {
              "outlinewidth": 0,
              "ticks": ""
             }
            },
            "type": "scattergeo"
           }
          ],
          "scattergl": [
           {
            "marker": {
             "colorbar": {
              "outlinewidth": 0,
              "ticks": ""
             }
            },
            "type": "scattergl"
           }
          ],
          "scattermapbox": [
           {
            "marker": {
             "colorbar": {
              "outlinewidth": 0,
              "ticks": ""
             }
            },
            "type": "scattermapbox"
           }
          ],
          "scatterpolar": [
           {
            "marker": {
             "colorbar": {
              "outlinewidth": 0,
              "ticks": ""
             }
            },
            "type": "scatterpolar"
           }
          ],
          "scatterpolargl": [
           {
            "marker": {
             "colorbar": {
              "outlinewidth": 0,
              "ticks": ""
             }
            },
            "type": "scatterpolargl"
           }
          ],
          "scatterternary": [
           {
            "marker": {
             "colorbar": {
              "outlinewidth": 0,
              "ticks": ""
             }
            },
            "type": "scatterternary"
           }
          ],
          "surface": [
           {
            "colorbar": {
             "outlinewidth": 0,
             "ticks": ""
            },
            "colorscale": [
             [
              0,
              "#0d0887"
             ],
             [
              0.1111111111111111,
              "#46039f"
             ],
             [
              0.2222222222222222,
              "#7201a8"
             ],
             [
              0.3333333333333333,
              "#9c179e"
             ],
             [
              0.4444444444444444,
              "#bd3786"
             ],
             [
              0.5555555555555556,
              "#d8576b"
             ],
             [
              0.6666666666666666,
              "#ed7953"
             ],
             [
              0.7777777777777778,
              "#fb9f3a"
             ],
             [
              0.8888888888888888,
              "#fdca26"
             ],
             [
              1,
              "#f0f921"
             ]
            ],
            "type": "surface"
           }
          ],
          "table": [
           {
            "cells": {
             "fill": {
              "color": "#EBF0F8"
             },
             "line": {
              "color": "white"
             }
            },
            "header": {
             "fill": {
              "color": "#C8D4E3"
             },
             "line": {
              "color": "white"
             }
            },
            "type": "table"
           }
          ]
         },
         "layout": {
          "annotationdefaults": {
           "arrowcolor": "#2a3f5f",
           "arrowhead": 0,
           "arrowwidth": 1
          },
          "autotypenumbers": "strict",
          "coloraxis": {
           "colorbar": {
            "outlinewidth": 0,
            "ticks": ""
           }
          },
          "colorscale": {
           "diverging": [
            [
             0,
             "#8e0152"
            ],
            [
             0.1,
             "#c51b7d"
            ],
            [
             0.2,
             "#de77ae"
            ],
            [
             0.3,
             "#f1b6da"
            ],
            [
             0.4,
             "#fde0ef"
            ],
            [
             0.5,
             "#f7f7f7"
            ],
            [
             0.6,
             "#e6f5d0"
            ],
            [
             0.7,
             "#b8e186"
            ],
            [
             0.8,
             "#7fbc41"
            ],
            [
             0.9,
             "#4d9221"
            ],
            [
             1,
             "#276419"
            ]
           ],
           "sequential": [
            [
             0,
             "#0d0887"
            ],
            [
             0.1111111111111111,
             "#46039f"
            ],
            [
             0.2222222222222222,
             "#7201a8"
            ],
            [
             0.3333333333333333,
             "#9c179e"
            ],
            [
             0.4444444444444444,
             "#bd3786"
            ],
            [
             0.5555555555555556,
             "#d8576b"
            ],
            [
             0.6666666666666666,
             "#ed7953"
            ],
            [
             0.7777777777777778,
             "#fb9f3a"
            ],
            [
             0.8888888888888888,
             "#fdca26"
            ],
            [
             1,
             "#f0f921"
            ]
           ],
           "sequentialminus": [
            [
             0,
             "#0d0887"
            ],
            [
             0.1111111111111111,
             "#46039f"
            ],
            [
             0.2222222222222222,
             "#7201a8"
            ],
            [
             0.3333333333333333,
             "#9c179e"
            ],
            [
             0.4444444444444444,
             "#bd3786"
            ],
            [
             0.5555555555555556,
             "#d8576b"
            ],
            [
             0.6666666666666666,
             "#ed7953"
            ],
            [
             0.7777777777777778,
             "#fb9f3a"
            ],
            [
             0.8888888888888888,
             "#fdca26"
            ],
            [
             1,
             "#f0f921"
            ]
           ]
          },
          "colorway": [
           "#636efa",
           "#EF553B",
           "#00cc96",
           "#ab63fa",
           "#FFA15A",
           "#19d3f3",
           "#FF6692",
           "#B6E880",
           "#FF97FF",
           "#FECB52"
          ],
          "font": {
           "color": "#2a3f5f"
          },
          "geo": {
           "bgcolor": "white",
           "lakecolor": "white",
           "landcolor": "#E5ECF6",
           "showlakes": true,
           "showland": true,
           "subunitcolor": "white"
          },
          "hoverlabel": {
           "align": "left"
          },
          "hovermode": "closest",
          "mapbox": {
           "style": "light"
          },
          "paper_bgcolor": "white",
          "plot_bgcolor": "#E5ECF6",
          "polar": {
           "angularaxis": {
            "gridcolor": "white",
            "linecolor": "white",
            "ticks": ""
           },
           "bgcolor": "#E5ECF6",
           "radialaxis": {
            "gridcolor": "white",
            "linecolor": "white",
            "ticks": ""
           }
          },
          "scene": {
           "xaxis": {
            "backgroundcolor": "#E5ECF6",
            "gridcolor": "white",
            "gridwidth": 2,
            "linecolor": "white",
            "showbackground": true,
            "ticks": "",
            "zerolinecolor": "white"
           },
           "yaxis": {
            "backgroundcolor": "#E5ECF6",
            "gridcolor": "white",
            "gridwidth": 2,
            "linecolor": "white",
            "showbackground": true,
            "ticks": "",
            "zerolinecolor": "white"
           },
           "zaxis": {
            "backgroundcolor": "#E5ECF6",
            "gridcolor": "white",
            "gridwidth": 2,
            "linecolor": "white",
            "showbackground": true,
            "ticks": "",
            "zerolinecolor": "white"
           }
          },
          "shapedefaults": {
           "line": {
            "color": "#2a3f5f"
           }
          },
          "ternary": {
           "aaxis": {
            "gridcolor": "white",
            "linecolor": "white",
            "ticks": ""
           },
           "baxis": {
            "gridcolor": "white",
            "linecolor": "white",
            "ticks": ""
           },
           "bgcolor": "#E5ECF6",
           "caxis": {
            "gridcolor": "white",
            "linecolor": "white",
            "ticks": ""
           }
          },
          "title": {
           "x": 0.05
          },
          "xaxis": {
           "automargin": true,
           "gridcolor": "white",
           "linecolor": "white",
           "ticks": "",
           "title": {
            "standoff": 15
           },
           "zerolinecolor": "white",
           "zerolinewidth": 2
          },
          "yaxis": {
           "automargin": true,
           "gridcolor": "white",
           "linecolor": "white",
           "ticks": "",
           "title": {
            "standoff": 15
           },
           "zerolinecolor": "white",
           "zerolinewidth": 2
          }
         }
        },
        "title": {
         "text": "Commmon Words in Comment"
        },
        "width": 700,
        "xaxis": {
         "anchor": "y",
         "domain": [
          0,
          1
         ],
         "title": {
          "text": "count"
         }
        },
        "yaxis": {
         "anchor": "x",
         "categoryarray": [
          "you",
          "but",
          "as",
          "sampai",
          "fast",
          "Good",
          "received",
          "very",
          "delivery",
          "size",
          "not",
          "seller",
          "ok",
          "in",
          "to",
          "is",
          "for",
          "the",
          "and",
          "good"
         ],
         "categoryorder": "array",
         "domain": [
          0,
          1
         ],
         "title": {
          "text": "Common_words"
         }
        }
       }
      },
      "text/html": [
       "<div>                            <div id=\"ba7b01ab-41b9-4e85-8659-fe864fa5fee9\" class=\"plotly-graph-div\" style=\"height:700px; width:700px;\"></div>            <script type=\"text/javascript\">                require([\"plotly\"], function(Plotly) {                    window.PLOTLYENV=window.PLOTLYENV || {};                                    if (document.getElementById(\"ba7b01ab-41b9-4e85-8659-fe864fa5fee9\")) {                    Plotly.newPlot(                        \"ba7b01ab-41b9-4e85-8659-fe864fa5fee9\",                        [{\"alignmentgroup\":\"True\",\"hovertemplate\":\"Common_words=%{y}<br>count=%{x}<extra></extra>\",\"legendgroup\":\"good\",\"marker\":{\"color\":\"#636efa\",\"pattern\":{\"shape\":\"\"}},\"name\":\"good\",\"offsetgroup\":\"good\",\"orientation\":\"h\",\"showlegend\":true,\"textposition\":\"auto\",\"x\":[272],\"xaxis\":\"x\",\"y\":[\"good\"],\"yaxis\":\"y\",\"type\":\"bar\"},{\"alignmentgroup\":\"True\",\"hovertemplate\":\"Common_words=%{y}<br>count=%{x}<extra></extra>\",\"legendgroup\":\"and\",\"marker\":{\"color\":\"#EF553B\",\"pattern\":{\"shape\":\"\"}},\"name\":\"and\",\"offsetgroup\":\"and\",\"orientation\":\"h\",\"showlegend\":true,\"textposition\":\"auto\",\"x\":[167],\"xaxis\":\"x\",\"y\":[\"and\"],\"yaxis\":\"y\",\"type\":\"bar\"},{\"alignmentgroup\":\"True\",\"hovertemplate\":\"Common_words=%{y}<br>count=%{x}<extra></extra>\",\"legendgroup\":\"the\",\"marker\":{\"color\":\"#00cc96\",\"pattern\":{\"shape\":\"\"}},\"name\":\"the\",\"offsetgroup\":\"the\",\"orientation\":\"h\",\"showlegend\":true,\"textposition\":\"auto\",\"x\":[137],\"xaxis\":\"x\",\"y\":[\"the\"],\"yaxis\":\"y\",\"type\":\"bar\"},{\"alignmentgroup\":\"True\",\"hovertemplate\":\"Common_words=%{y}<br>count=%{x}<extra></extra>\",\"legendgroup\":\"for\",\"marker\":{\"color\":\"#ab63fa\",\"pattern\":{\"shape\":\"\"}},\"name\":\"for\",\"offsetgroup\":\"for\",\"orientation\":\"h\",\"showlegend\":true,\"textposition\":\"auto\",\"x\":[115],\"xaxis\":\"x\",\"y\":[\"for\"],\"yaxis\":\"y\",\"type\":\"bar\"},{\"alignmentgroup\":\"True\",\"hovertemplate\":\"Common_words=%{y}<br>count=%{x}<extra></extra>\",\"legendgroup\":\"is\",\"marker\":{\"color\":\"#FFA15A\",\"pattern\":{\"shape\":\"\"}},\"name\":\"is\",\"offsetgroup\":\"is\",\"orientation\":\"h\",\"showlegend\":true,\"textposition\":\"auto\",\"x\":[114],\"xaxis\":\"x\",\"y\":[\"is\"],\"yaxis\":\"y\",\"type\":\"bar\"},{\"alignmentgroup\":\"True\",\"hovertemplate\":\"Common_words=%{y}<br>count=%{x}<extra></extra>\",\"legendgroup\":\"to\",\"marker\":{\"color\":\"#19d3f3\",\"pattern\":{\"shape\":\"\"}},\"name\":\"to\",\"offsetgroup\":\"to\",\"orientation\":\"h\",\"showlegend\":true,\"textposition\":\"auto\",\"x\":[84],\"xaxis\":\"x\",\"y\":[\"to\"],\"yaxis\":\"y\",\"type\":\"bar\"},{\"alignmentgroup\":\"True\",\"hovertemplate\":\"Common_words=%{y}<br>count=%{x}<extra></extra>\",\"legendgroup\":\"in\",\"marker\":{\"color\":\"#FF6692\",\"pattern\":{\"shape\":\"\"}},\"name\":\"in\",\"offsetgroup\":\"in\",\"orientation\":\"h\",\"showlegend\":true,\"textposition\":\"auto\",\"x\":[83],\"xaxis\":\"x\",\"y\":[\"in\"],\"yaxis\":\"y\",\"type\":\"bar\"},{\"alignmentgroup\":\"True\",\"hovertemplate\":\"Common_words=%{y}<br>count=%{x}<extra></extra>\",\"legendgroup\":\"ok\",\"marker\":{\"color\":\"#B6E880\",\"pattern\":{\"shape\":\"\"}},\"name\":\"ok\",\"offsetgroup\":\"ok\",\"orientation\":\"h\",\"showlegend\":true,\"textposition\":\"auto\",\"x\":[81],\"xaxis\":\"x\",\"y\":[\"ok\"],\"yaxis\":\"y\",\"type\":\"bar\"},{\"alignmentgroup\":\"True\",\"hovertemplate\":\"Common_words=%{y}<br>count=%{x}<extra></extra>\",\"legendgroup\":\"seller\",\"marker\":{\"color\":\"#FF97FF\",\"pattern\":{\"shape\":\"\"}},\"name\":\"seller\",\"offsetgroup\":\"seller\",\"orientation\":\"h\",\"showlegend\":true,\"textposition\":\"auto\",\"x\":[72],\"xaxis\":\"x\",\"y\":[\"seller\"],\"yaxis\":\"y\",\"type\":\"bar\"},{\"alignmentgroup\":\"True\",\"hovertemplate\":\"Common_words=%{y}<br>count=%{x}<extra></extra>\",\"legendgroup\":\"not\",\"marker\":{\"color\":\"#FECB52\",\"pattern\":{\"shape\":\"\"}},\"name\":\"not\",\"offsetgroup\":\"not\",\"orientation\":\"h\",\"showlegend\":true,\"textposition\":\"auto\",\"x\":[68],\"xaxis\":\"x\",\"y\":[\"not\"],\"yaxis\":\"y\",\"type\":\"bar\"},{\"alignmentgroup\":\"True\",\"hovertemplate\":\"Common_words=%{y}<br>count=%{x}<extra></extra>\",\"legendgroup\":\"size\",\"marker\":{\"color\":\"#636efa\",\"pattern\":{\"shape\":\"\"}},\"name\":\"size\",\"offsetgroup\":\"size\",\"orientation\":\"h\",\"showlegend\":true,\"textposition\":\"auto\",\"x\":[67],\"xaxis\":\"x\",\"y\":[\"size\"],\"yaxis\":\"y\",\"type\":\"bar\"},{\"alignmentgroup\":\"True\",\"hovertemplate\":\"Common_words=%{y}<br>count=%{x}<extra></extra>\",\"legendgroup\":\"delivery\",\"marker\":{\"color\":\"#EF553B\",\"pattern\":{\"shape\":\"\"}},\"name\":\"delivery\",\"offsetgroup\":\"delivery\",\"orientation\":\"h\",\"showlegend\":true,\"textposition\":\"auto\",\"x\":[66],\"xaxis\":\"x\",\"y\":[\"delivery\"],\"yaxis\":\"y\",\"type\":\"bar\"},{\"alignmentgroup\":\"True\",\"hovertemplate\":\"Common_words=%{y}<br>count=%{x}<extra></extra>\",\"legendgroup\":\"very\",\"marker\":{\"color\":\"#00cc96\",\"pattern\":{\"shape\":\"\"}},\"name\":\"very\",\"offsetgroup\":\"very\",\"orientation\":\"h\",\"showlegend\":true,\"textposition\":\"auto\",\"x\":[65],\"xaxis\":\"x\",\"y\":[\"very\"],\"yaxis\":\"y\",\"type\":\"bar\"},{\"alignmentgroup\":\"True\",\"hovertemplate\":\"Common_words=%{y}<br>count=%{x}<extra></extra>\",\"legendgroup\":\"received\",\"marker\":{\"color\":\"#ab63fa\",\"pattern\":{\"shape\":\"\"}},\"name\":\"received\",\"offsetgroup\":\"received\",\"orientation\":\"h\",\"showlegend\":true,\"textposition\":\"auto\",\"x\":[62],\"xaxis\":\"x\",\"y\":[\"received\"],\"yaxis\":\"y\",\"type\":\"bar\"},{\"alignmentgroup\":\"True\",\"hovertemplate\":\"Common_words=%{y}<br>count=%{x}<extra></extra>\",\"legendgroup\":\"Good\",\"marker\":{\"color\":\"#FFA15A\",\"pattern\":{\"shape\":\"\"}},\"name\":\"Good\",\"offsetgroup\":\"Good\",\"orientation\":\"h\",\"showlegend\":true,\"textposition\":\"auto\",\"x\":[60],\"xaxis\":\"x\",\"y\":[\"Good\"],\"yaxis\":\"y\",\"type\":\"bar\"},{\"alignmentgroup\":\"True\",\"hovertemplate\":\"Common_words=%{y}<br>count=%{x}<extra></extra>\",\"legendgroup\":\"fast\",\"marker\":{\"color\":\"#19d3f3\",\"pattern\":{\"shape\":\"\"}},\"name\":\"fast\",\"offsetgroup\":\"fast\",\"orientation\":\"h\",\"showlegend\":true,\"textposition\":\"auto\",\"x\":[58],\"xaxis\":\"x\",\"y\":[\"fast\"],\"yaxis\":\"y\",\"type\":\"bar\"},{\"alignmentgroup\":\"True\",\"hovertemplate\":\"Common_words=%{y}<br>count=%{x}<extra></extra>\",\"legendgroup\":\"sampai\",\"marker\":{\"color\":\"#FF6692\",\"pattern\":{\"shape\":\"\"}},\"name\":\"sampai\",\"offsetgroup\":\"sampai\",\"orientation\":\"h\",\"showlegend\":true,\"textposition\":\"auto\",\"x\":[57],\"xaxis\":\"x\",\"y\":[\"sampai\"],\"yaxis\":\"y\",\"type\":\"bar\"},{\"alignmentgroup\":\"True\",\"hovertemplate\":\"Common_words=%{y}<br>count=%{x}<extra></extra>\",\"legendgroup\":\"as\",\"marker\":{\"color\":\"#B6E880\",\"pattern\":{\"shape\":\"\"}},\"name\":\"as\",\"offsetgroup\":\"as\",\"orientation\":\"h\",\"showlegend\":true,\"textposition\":\"auto\",\"x\":[56],\"xaxis\":\"x\",\"y\":[\"as\"],\"yaxis\":\"y\",\"type\":\"bar\"},{\"alignmentgroup\":\"True\",\"hovertemplate\":\"Common_words=%{y}<br>count=%{x}<extra></extra>\",\"legendgroup\":\"but\",\"marker\":{\"color\":\"#FF97FF\",\"pattern\":{\"shape\":\"\"}},\"name\":\"but\",\"offsetgroup\":\"but\",\"orientation\":\"h\",\"showlegend\":true,\"textposition\":\"auto\",\"x\":[55],\"xaxis\":\"x\",\"y\":[\"but\"],\"yaxis\":\"y\",\"type\":\"bar\"},{\"alignmentgroup\":\"True\",\"hovertemplate\":\"Common_words=%{y}<br>count=%{x}<extra></extra>\",\"legendgroup\":\"you\",\"marker\":{\"color\":\"#FECB52\",\"pattern\":{\"shape\":\"\"}},\"name\":\"you\",\"offsetgroup\":\"you\",\"orientation\":\"h\",\"showlegend\":true,\"textposition\":\"auto\",\"x\":[54],\"xaxis\":\"x\",\"y\":[\"you\"],\"yaxis\":\"y\",\"type\":\"bar\"}],                        {\"template\":{\"data\":{\"histogram2dcontour\":[{\"type\":\"histogram2dcontour\",\"colorbar\":{\"outlinewidth\":0,\"ticks\":\"\"},\"colorscale\":[[0.0,\"#0d0887\"],[0.1111111111111111,\"#46039f\"],[0.2222222222222222,\"#7201a8\"],[0.3333333333333333,\"#9c179e\"],[0.4444444444444444,\"#bd3786\"],[0.5555555555555556,\"#d8576b\"],[0.6666666666666666,\"#ed7953\"],[0.7777777777777778,\"#fb9f3a\"],[0.8888888888888888,\"#fdca26\"],[1.0,\"#f0f921\"]]}],\"choropleth\":[{\"type\":\"choropleth\",\"colorbar\":{\"outlinewidth\":0,\"ticks\":\"\"}}],\"histogram2d\":[{\"type\":\"histogram2d\",\"colorbar\":{\"outlinewidth\":0,\"ticks\":\"\"},\"colorscale\":[[0.0,\"#0d0887\"],[0.1111111111111111,\"#46039f\"],[0.2222222222222222,\"#7201a8\"],[0.3333333333333333,\"#9c179e\"],[0.4444444444444444,\"#bd3786\"],[0.5555555555555556,\"#d8576b\"],[0.6666666666666666,\"#ed7953\"],[0.7777777777777778,\"#fb9f3a\"],[0.8888888888888888,\"#fdca26\"],[1.0,\"#f0f921\"]]}],\"heatmap\":[{\"type\":\"heatmap\",\"colorbar\":{\"outlinewidth\":0,\"ticks\":\"\"},\"colorscale\":[[0.0,\"#0d0887\"],[0.1111111111111111,\"#46039f\"],[0.2222222222222222,\"#7201a8\"],[0.3333333333333333,\"#9c179e\"],[0.4444444444444444,\"#bd3786\"],[0.5555555555555556,\"#d8576b\"],[0.6666666666666666,\"#ed7953\"],[0.7777777777777778,\"#fb9f3a\"],[0.8888888888888888,\"#fdca26\"],[1.0,\"#f0f921\"]]}],\"heatmapgl\":[{\"type\":\"heatmapgl\",\"colorbar\":{\"outlinewidth\":0,\"ticks\":\"\"},\"colorscale\":[[0.0,\"#0d0887\"],[0.1111111111111111,\"#46039f\"],[0.2222222222222222,\"#7201a8\"],[0.3333333333333333,\"#9c179e\"],[0.4444444444444444,\"#bd3786\"],[0.5555555555555556,\"#d8576b\"],[0.6666666666666666,\"#ed7953\"],[0.7777777777777778,\"#fb9f3a\"],[0.8888888888888888,\"#fdca26\"],[1.0,\"#f0f921\"]]}],\"contourcarpet\":[{\"type\":\"contourcarpet\",\"colorbar\":{\"outlinewidth\":0,\"ticks\":\"\"}}],\"contour\":[{\"type\":\"contour\",\"colorbar\":{\"outlinewidth\":0,\"ticks\":\"\"},\"colorscale\":[[0.0,\"#0d0887\"],[0.1111111111111111,\"#46039f\"],[0.2222222222222222,\"#7201a8\"],[0.3333333333333333,\"#9c179e\"],[0.4444444444444444,\"#bd3786\"],[0.5555555555555556,\"#d8576b\"],[0.6666666666666666,\"#ed7953\"],[0.7777777777777778,\"#fb9f3a\"],[0.8888888888888888,\"#fdca26\"],[1.0,\"#f0f921\"]]}],\"surface\":[{\"type\":\"surface\",\"colorbar\":{\"outlinewidth\":0,\"ticks\":\"\"},\"colorscale\":[[0.0,\"#0d0887\"],[0.1111111111111111,\"#46039f\"],[0.2222222222222222,\"#7201a8\"],[0.3333333333333333,\"#9c179e\"],[0.4444444444444444,\"#bd3786\"],[0.5555555555555556,\"#d8576b\"],[0.6666666666666666,\"#ed7953\"],[0.7777777777777778,\"#fb9f3a\"],[0.8888888888888888,\"#fdca26\"],[1.0,\"#f0f921\"]]}],\"mesh3d\":[{\"type\":\"mesh3d\",\"colorbar\":{\"outlinewidth\":0,\"ticks\":\"\"}}],\"scatter\":[{\"fillpattern\":{\"fillmode\":\"overlay\",\"size\":10,\"solidity\":0.2},\"type\":\"scatter\"}],\"parcoords\":[{\"type\":\"parcoords\",\"line\":{\"colorbar\":{\"outlinewidth\":0,\"ticks\":\"\"}}}],\"scatterpolargl\":[{\"type\":\"scatterpolargl\",\"marker\":{\"colorbar\":{\"outlinewidth\":0,\"ticks\":\"\"}}}],\"bar\":[{\"error_x\":{\"color\":\"#2a3f5f\"},\"error_y\":{\"color\":\"#2a3f5f\"},\"marker\":{\"line\":{\"color\":\"#E5ECF6\",\"width\":0.5},\"pattern\":{\"fillmode\":\"overlay\",\"size\":10,\"solidity\":0.2}},\"type\":\"bar\"}],\"scattergeo\":[{\"type\":\"scattergeo\",\"marker\":{\"colorbar\":{\"outlinewidth\":0,\"ticks\":\"\"}}}],\"scatterpolar\":[{\"type\":\"scatterpolar\",\"marker\":{\"colorbar\":{\"outlinewidth\":0,\"ticks\":\"\"}}}],\"histogram\":[{\"marker\":{\"pattern\":{\"fillmode\":\"overlay\",\"size\":10,\"solidity\":0.2}},\"type\":\"histogram\"}],\"scattergl\":[{\"type\":\"scattergl\",\"marker\":{\"colorbar\":{\"outlinewidth\":0,\"ticks\":\"\"}}}],\"scatter3d\":[{\"type\":\"scatter3d\",\"line\":{\"colorbar\":{\"outlinewidth\":0,\"ticks\":\"\"}},\"marker\":{\"colorbar\":{\"outlinewidth\":0,\"ticks\":\"\"}}}],\"scattermapbox\":[{\"type\":\"scattermapbox\",\"marker\":{\"colorbar\":{\"outlinewidth\":0,\"ticks\":\"\"}}}],\"scatterternary\":[{\"type\":\"scatterternary\",\"marker\":{\"colorbar\":{\"outlinewidth\":0,\"ticks\":\"\"}}}],\"scattercarpet\":[{\"type\":\"scattercarpet\",\"marker\":{\"colorbar\":{\"outlinewidth\":0,\"ticks\":\"\"}}}],\"carpet\":[{\"aaxis\":{\"endlinecolor\":\"#2a3f5f\",\"gridcolor\":\"white\",\"linecolor\":\"white\",\"minorgridcolor\":\"white\",\"startlinecolor\":\"#2a3f5f\"},\"baxis\":{\"endlinecolor\":\"#2a3f5f\",\"gridcolor\":\"white\",\"linecolor\":\"white\",\"minorgridcolor\":\"white\",\"startlinecolor\":\"#2a3f5f\"},\"type\":\"carpet\"}],\"table\":[{\"cells\":{\"fill\":{\"color\":\"#EBF0F8\"},\"line\":{\"color\":\"white\"}},\"header\":{\"fill\":{\"color\":\"#C8D4E3\"},\"line\":{\"color\":\"white\"}},\"type\":\"table\"}],\"barpolar\":[{\"marker\":{\"line\":{\"color\":\"#E5ECF6\",\"width\":0.5},\"pattern\":{\"fillmode\":\"overlay\",\"size\":10,\"solidity\":0.2}},\"type\":\"barpolar\"}],\"pie\":[{\"automargin\":true,\"type\":\"pie\"}]},\"layout\":{\"autotypenumbers\":\"strict\",\"colorway\":[\"#636efa\",\"#EF553B\",\"#00cc96\",\"#ab63fa\",\"#FFA15A\",\"#19d3f3\",\"#FF6692\",\"#B6E880\",\"#FF97FF\",\"#FECB52\"],\"font\":{\"color\":\"#2a3f5f\"},\"hovermode\":\"closest\",\"hoverlabel\":{\"align\":\"left\"},\"paper_bgcolor\":\"white\",\"plot_bgcolor\":\"#E5ECF6\",\"polar\":{\"bgcolor\":\"#E5ECF6\",\"angularaxis\":{\"gridcolor\":\"white\",\"linecolor\":\"white\",\"ticks\":\"\"},\"radialaxis\":{\"gridcolor\":\"white\",\"linecolor\":\"white\",\"ticks\":\"\"}},\"ternary\":{\"bgcolor\":\"#E5ECF6\",\"aaxis\":{\"gridcolor\":\"white\",\"linecolor\":\"white\",\"ticks\":\"\"},\"baxis\":{\"gridcolor\":\"white\",\"linecolor\":\"white\",\"ticks\":\"\"},\"caxis\":{\"gridcolor\":\"white\",\"linecolor\":\"white\",\"ticks\":\"\"}},\"coloraxis\":{\"colorbar\":{\"outlinewidth\":0,\"ticks\":\"\"}},\"colorscale\":{\"sequential\":[[0.0,\"#0d0887\"],[0.1111111111111111,\"#46039f\"],[0.2222222222222222,\"#7201a8\"],[0.3333333333333333,\"#9c179e\"],[0.4444444444444444,\"#bd3786\"],[0.5555555555555556,\"#d8576b\"],[0.6666666666666666,\"#ed7953\"],[0.7777777777777778,\"#fb9f3a\"],[0.8888888888888888,\"#fdca26\"],[1.0,\"#f0f921\"]],\"sequentialminus\":[[0.0,\"#0d0887\"],[0.1111111111111111,\"#46039f\"],[0.2222222222222222,\"#7201a8\"],[0.3333333333333333,\"#9c179e\"],[0.4444444444444444,\"#bd3786\"],[0.5555555555555556,\"#d8576b\"],[0.6666666666666666,\"#ed7953\"],[0.7777777777777778,\"#fb9f3a\"],[0.8888888888888888,\"#fdca26\"],[1.0,\"#f0f921\"]],\"diverging\":[[0,\"#8e0152\"],[0.1,\"#c51b7d\"],[0.2,\"#de77ae\"],[0.3,\"#f1b6da\"],[0.4,\"#fde0ef\"],[0.5,\"#f7f7f7\"],[0.6,\"#e6f5d0\"],[0.7,\"#b8e186\"],[0.8,\"#7fbc41\"],[0.9,\"#4d9221\"],[1,\"#276419\"]]},\"xaxis\":{\"gridcolor\":\"white\",\"linecolor\":\"white\",\"ticks\":\"\",\"title\":{\"standoff\":15},\"zerolinecolor\":\"white\",\"automargin\":true,\"zerolinewidth\":2},\"yaxis\":{\"gridcolor\":\"white\",\"linecolor\":\"white\",\"ticks\":\"\",\"title\":{\"standoff\":15},\"zerolinecolor\":\"white\",\"automargin\":true,\"zerolinewidth\":2},\"scene\":{\"xaxis\":{\"backgroundcolor\":\"#E5ECF6\",\"gridcolor\":\"white\",\"linecolor\":\"white\",\"showbackground\":true,\"ticks\":\"\",\"zerolinecolor\":\"white\",\"gridwidth\":2},\"yaxis\":{\"backgroundcolor\":\"#E5ECF6\",\"gridcolor\":\"white\",\"linecolor\":\"white\",\"showbackground\":true,\"ticks\":\"\",\"zerolinecolor\":\"white\",\"gridwidth\":2},\"zaxis\":{\"backgroundcolor\":\"#E5ECF6\",\"gridcolor\":\"white\",\"linecolor\":\"white\",\"showbackground\":true,\"ticks\":\"\",\"zerolinecolor\":\"white\",\"gridwidth\":2}},\"shapedefaults\":{\"line\":{\"color\":\"#2a3f5f\"}},\"annotationdefaults\":{\"arrowcolor\":\"#2a3f5f\",\"arrowhead\":0,\"arrowwidth\":1},\"geo\":{\"bgcolor\":\"white\",\"landcolor\":\"#E5ECF6\",\"subunitcolor\":\"white\",\"showland\":true,\"showlakes\":true,\"lakecolor\":\"white\"},\"title\":{\"x\":0.05},\"mapbox\":{\"style\":\"light\"}}},\"xaxis\":{\"anchor\":\"y\",\"domain\":[0.0,1.0],\"title\":{\"text\":\"count\"}},\"yaxis\":{\"anchor\":\"x\",\"domain\":[0.0,1.0],\"title\":{\"text\":\"Common_words\"},\"categoryorder\":\"array\",\"categoryarray\":[\"you\",\"but\",\"as\",\"sampai\",\"fast\",\"Good\",\"received\",\"very\",\"delivery\",\"size\",\"not\",\"seller\",\"ok\",\"in\",\"to\",\"is\",\"for\",\"the\",\"and\",\"good\"]},\"legend\":{\"title\":{\"text\":\"Common_words\"},\"tracegroupgap\":0},\"title\":{\"text\":\"Commmon Words in Comment\"},\"barmode\":\"relative\",\"height\":700,\"width\":700},                        {\"responsive\": true}                    ).then(function(){\n",
       "                            \n",
       "var gd = document.getElementById('ba7b01ab-41b9-4e85-8659-fe864fa5fee9');\n",
       "var x = new MutationObserver(function (mutations, observer) {{\n",
       "        var display = window.getComputedStyle(gd).display;\n",
       "        if (!display || display === 'none') {{\n",
       "            console.log([gd, 'removed!']);\n",
       "            Plotly.purge(gd);\n",
       "            observer.disconnect();\n",
       "        }}\n",
       "}});\n",
       "\n",
       "// Listen for the removal of the full notebook cells\n",
       "var notebookContainer = gd.closest('#notebook-container');\n",
       "if (notebookContainer) {{\n",
       "    x.observe(notebookContainer, {childList: true});\n",
       "}}\n",
       "\n",
       "// Listen for the clearing of the current output cell\n",
       "var outputEl = gd.closest('.output');\n",
       "if (outputEl) {{\n",
       "    x.observe(outputEl, {childList: true});\n",
       "}}\n",
       "\n",
       "                        })                };                });            </script>        </div>"
      ]
     },
     "metadata": {},
     "output_type": "display_data"
    }
   ],
   "source": [
    "import plotly.express as px\n",
    "fig = px.bar(temp, x=\"count\", y=\"Common_words\", title='Commmon Words in Comment', orientation='h', \n",
    "             width=700, height=700,color='Common_words')\n",
    "fig.show()"
   ]
  },
  {
   "cell_type": "code",
   "execution_count": 32,
   "id": "6adb753b",
   "metadata": {},
   "outputs": [
    {
     "data": {
      "application/vnd.plotly.v1+json": {
       "config": {
        "plotlyServerURL": "https://plot.ly"
       },
       "data": [
        {
         "branchvalues": "total",
         "domain": {
          "x": [
           0,
           1
          ],
          "y": [
           0,
           1
          ]
         },
         "hovertemplate": "labels=%{label}<br>count=%{value}<br>parent=%{parent}<br>id=%{id}<extra></extra>",
         "ids": [
          "Good",
          "and",
          "as",
          "but",
          "delivery",
          "fast",
          "for",
          "good",
          "in",
          "is",
          "not",
          "ok",
          "received",
          "sampai",
          "seller",
          "size",
          "the",
          "to",
          "very",
          "you"
         ],
         "labels": [
          "Good",
          "and",
          "as",
          "but",
          "delivery",
          "fast",
          "for",
          "good",
          "in",
          "is",
          "not",
          "ok",
          "received",
          "sampai",
          "seller",
          "size",
          "the",
          "to",
          "very",
          "you"
         ],
         "name": "",
         "parents": [
          "",
          "",
          "",
          "",
          "",
          "",
          "",
          "",
          "",
          "",
          "",
          "",
          "",
          "",
          "",
          "",
          "",
          "",
          "",
          ""
         ],
         "type": "treemap",
         "values": [
          60,
          167,
          56,
          55,
          66,
          58,
          115,
          272,
          83,
          114,
          68,
          81,
          62,
          57,
          72,
          67,
          137,
          84,
          65,
          54
         ]
        }
       ],
       "layout": {
        "legend": {
         "tracegroupgap": 0
        },
        "template": {
         "data": {
          "bar": [
           {
            "error_x": {
             "color": "#2a3f5f"
            },
            "error_y": {
             "color": "#2a3f5f"
            },
            "marker": {
             "line": {
              "color": "#E5ECF6",
              "width": 0.5
             },
             "pattern": {
              "fillmode": "overlay",
              "size": 10,
              "solidity": 0.2
             }
            },
            "type": "bar"
           }
          ],
          "barpolar": [
           {
            "marker": {
             "line": {
              "color": "#E5ECF6",
              "width": 0.5
             },
             "pattern": {
              "fillmode": "overlay",
              "size": 10,
              "solidity": 0.2
             }
            },
            "type": "barpolar"
           }
          ],
          "carpet": [
           {
            "aaxis": {
             "endlinecolor": "#2a3f5f",
             "gridcolor": "white",
             "linecolor": "white",
             "minorgridcolor": "white",
             "startlinecolor": "#2a3f5f"
            },
            "baxis": {
             "endlinecolor": "#2a3f5f",
             "gridcolor": "white",
             "linecolor": "white",
             "minorgridcolor": "white",
             "startlinecolor": "#2a3f5f"
            },
            "type": "carpet"
           }
          ],
          "choropleth": [
           {
            "colorbar": {
             "outlinewidth": 0,
             "ticks": ""
            },
            "type": "choropleth"
           }
          ],
          "contour": [
           {
            "colorbar": {
             "outlinewidth": 0,
             "ticks": ""
            },
            "colorscale": [
             [
              0,
              "#0d0887"
             ],
             [
              0.1111111111111111,
              "#46039f"
             ],
             [
              0.2222222222222222,
              "#7201a8"
             ],
             [
              0.3333333333333333,
              "#9c179e"
             ],
             [
              0.4444444444444444,
              "#bd3786"
             ],
             [
              0.5555555555555556,
              "#d8576b"
             ],
             [
              0.6666666666666666,
              "#ed7953"
             ],
             [
              0.7777777777777778,
              "#fb9f3a"
             ],
             [
              0.8888888888888888,
              "#fdca26"
             ],
             [
              1,
              "#f0f921"
             ]
            ],
            "type": "contour"
           }
          ],
          "contourcarpet": [
           {
            "colorbar": {
             "outlinewidth": 0,
             "ticks": ""
            },
            "type": "contourcarpet"
           }
          ],
          "heatmap": [
           {
            "colorbar": {
             "outlinewidth": 0,
             "ticks": ""
            },
            "colorscale": [
             [
              0,
              "#0d0887"
             ],
             [
              0.1111111111111111,
              "#46039f"
             ],
             [
              0.2222222222222222,
              "#7201a8"
             ],
             [
              0.3333333333333333,
              "#9c179e"
             ],
             [
              0.4444444444444444,
              "#bd3786"
             ],
             [
              0.5555555555555556,
              "#d8576b"
             ],
             [
              0.6666666666666666,
              "#ed7953"
             ],
             [
              0.7777777777777778,
              "#fb9f3a"
             ],
             [
              0.8888888888888888,
              "#fdca26"
             ],
             [
              1,
              "#f0f921"
             ]
            ],
            "type": "heatmap"
           }
          ],
          "heatmapgl": [
           {
            "colorbar": {
             "outlinewidth": 0,
             "ticks": ""
            },
            "colorscale": [
             [
              0,
              "#0d0887"
             ],
             [
              0.1111111111111111,
              "#46039f"
             ],
             [
              0.2222222222222222,
              "#7201a8"
             ],
             [
              0.3333333333333333,
              "#9c179e"
             ],
             [
              0.4444444444444444,
              "#bd3786"
             ],
             [
              0.5555555555555556,
              "#d8576b"
             ],
             [
              0.6666666666666666,
              "#ed7953"
             ],
             [
              0.7777777777777778,
              "#fb9f3a"
             ],
             [
              0.8888888888888888,
              "#fdca26"
             ],
             [
              1,
              "#f0f921"
             ]
            ],
            "type": "heatmapgl"
           }
          ],
          "histogram": [
           {
            "marker": {
             "pattern": {
              "fillmode": "overlay",
              "size": 10,
              "solidity": 0.2
             }
            },
            "type": "histogram"
           }
          ],
          "histogram2d": [
           {
            "colorbar": {
             "outlinewidth": 0,
             "ticks": ""
            },
            "colorscale": [
             [
              0,
              "#0d0887"
             ],
             [
              0.1111111111111111,
              "#46039f"
             ],
             [
              0.2222222222222222,
              "#7201a8"
             ],
             [
              0.3333333333333333,
              "#9c179e"
             ],
             [
              0.4444444444444444,
              "#bd3786"
             ],
             [
              0.5555555555555556,
              "#d8576b"
             ],
             [
              0.6666666666666666,
              "#ed7953"
             ],
             [
              0.7777777777777778,
              "#fb9f3a"
             ],
             [
              0.8888888888888888,
              "#fdca26"
             ],
             [
              1,
              "#f0f921"
             ]
            ],
            "type": "histogram2d"
           }
          ],
          "histogram2dcontour": [
           {
            "colorbar": {
             "outlinewidth": 0,
             "ticks": ""
            },
            "colorscale": [
             [
              0,
              "#0d0887"
             ],
             [
              0.1111111111111111,
              "#46039f"
             ],
             [
              0.2222222222222222,
              "#7201a8"
             ],
             [
              0.3333333333333333,
              "#9c179e"
             ],
             [
              0.4444444444444444,
              "#bd3786"
             ],
             [
              0.5555555555555556,
              "#d8576b"
             ],
             [
              0.6666666666666666,
              "#ed7953"
             ],
             [
              0.7777777777777778,
              "#fb9f3a"
             ],
             [
              0.8888888888888888,
              "#fdca26"
             ],
             [
              1,
              "#f0f921"
             ]
            ],
            "type": "histogram2dcontour"
           }
          ],
          "mesh3d": [
           {
            "colorbar": {
             "outlinewidth": 0,
             "ticks": ""
            },
            "type": "mesh3d"
           }
          ],
          "parcoords": [
           {
            "line": {
             "colorbar": {
              "outlinewidth": 0,
              "ticks": ""
             }
            },
            "type": "parcoords"
           }
          ],
          "pie": [
           {
            "automargin": true,
            "type": "pie"
           }
          ],
          "scatter": [
           {
            "fillpattern": {
             "fillmode": "overlay",
             "size": 10,
             "solidity": 0.2
            },
            "type": "scatter"
           }
          ],
          "scatter3d": [
           {
            "line": {
             "colorbar": {
              "outlinewidth": 0,
              "ticks": ""
             }
            },
            "marker": {
             "colorbar": {
              "outlinewidth": 0,
              "ticks": ""
             }
            },
            "type": "scatter3d"
           }
          ],
          "scattercarpet": [
           {
            "marker": {
             "colorbar": {
              "outlinewidth": 0,
              "ticks": ""
             }
            },
            "type": "scattercarpet"
           }
          ],
          "scattergeo": [
           {
            "marker": {
             "colorbar": {
              "outlinewidth": 0,
              "ticks": ""
             }
            },
            "type": "scattergeo"
           }
          ],
          "scattergl": [
           {
            "marker": {
             "colorbar": {
              "outlinewidth": 0,
              "ticks": ""
             }
            },
            "type": "scattergl"
           }
          ],
          "scattermapbox": [
           {
            "marker": {
             "colorbar": {
              "outlinewidth": 0,
              "ticks": ""
             }
            },
            "type": "scattermapbox"
           }
          ],
          "scatterpolar": [
           {
            "marker": {
             "colorbar": {
              "outlinewidth": 0,
              "ticks": ""
             }
            },
            "type": "scatterpolar"
           }
          ],
          "scatterpolargl": [
           {
            "marker": {
             "colorbar": {
              "outlinewidth": 0,
              "ticks": ""
             }
            },
            "type": "scatterpolargl"
           }
          ],
          "scatterternary": [
           {
            "marker": {
             "colorbar": {
              "outlinewidth": 0,
              "ticks": ""
             }
            },
            "type": "scatterternary"
           }
          ],
          "surface": [
           {
            "colorbar": {
             "outlinewidth": 0,
             "ticks": ""
            },
            "colorscale": [
             [
              0,
              "#0d0887"
             ],
             [
              0.1111111111111111,
              "#46039f"
             ],
             [
              0.2222222222222222,
              "#7201a8"
             ],
             [
              0.3333333333333333,
              "#9c179e"
             ],
             [
              0.4444444444444444,
              "#bd3786"
             ],
             [
              0.5555555555555556,
              "#d8576b"
             ],
             [
              0.6666666666666666,
              "#ed7953"
             ],
             [
              0.7777777777777778,
              "#fb9f3a"
             ],
             [
              0.8888888888888888,
              "#fdca26"
             ],
             [
              1,
              "#f0f921"
             ]
            ],
            "type": "surface"
           }
          ],
          "table": [
           {
            "cells": {
             "fill": {
              "color": "#EBF0F8"
             },
             "line": {
              "color": "white"
             }
            },
            "header": {
             "fill": {
              "color": "#C8D4E3"
             },
             "line": {
              "color": "white"
             }
            },
            "type": "table"
           }
          ]
         },
         "layout": {
          "annotationdefaults": {
           "arrowcolor": "#2a3f5f",
           "arrowhead": 0,
           "arrowwidth": 1
          },
          "autotypenumbers": "strict",
          "coloraxis": {
           "colorbar": {
            "outlinewidth": 0,
            "ticks": ""
           }
          },
          "colorscale": {
           "diverging": [
            [
             0,
             "#8e0152"
            ],
            [
             0.1,
             "#c51b7d"
            ],
            [
             0.2,
             "#de77ae"
            ],
            [
             0.3,
             "#f1b6da"
            ],
            [
             0.4,
             "#fde0ef"
            ],
            [
             0.5,
             "#f7f7f7"
            ],
            [
             0.6,
             "#e6f5d0"
            ],
            [
             0.7,
             "#b8e186"
            ],
            [
             0.8,
             "#7fbc41"
            ],
            [
             0.9,
             "#4d9221"
            ],
            [
             1,
             "#276419"
            ]
           ],
           "sequential": [
            [
             0,
             "#0d0887"
            ],
            [
             0.1111111111111111,
             "#46039f"
            ],
            [
             0.2222222222222222,
             "#7201a8"
            ],
            [
             0.3333333333333333,
             "#9c179e"
            ],
            [
             0.4444444444444444,
             "#bd3786"
            ],
            [
             0.5555555555555556,
             "#d8576b"
            ],
            [
             0.6666666666666666,
             "#ed7953"
            ],
            [
             0.7777777777777778,
             "#fb9f3a"
            ],
            [
             0.8888888888888888,
             "#fdca26"
            ],
            [
             1,
             "#f0f921"
            ]
           ],
           "sequentialminus": [
            [
             0,
             "#0d0887"
            ],
            [
             0.1111111111111111,
             "#46039f"
            ],
            [
             0.2222222222222222,
             "#7201a8"
            ],
            [
             0.3333333333333333,
             "#9c179e"
            ],
            [
             0.4444444444444444,
             "#bd3786"
            ],
            [
             0.5555555555555556,
             "#d8576b"
            ],
            [
             0.6666666666666666,
             "#ed7953"
            ],
            [
             0.7777777777777778,
             "#fb9f3a"
            ],
            [
             0.8888888888888888,
             "#fdca26"
            ],
            [
             1,
             "#f0f921"
            ]
           ]
          },
          "colorway": [
           "#636efa",
           "#EF553B",
           "#00cc96",
           "#ab63fa",
           "#FFA15A",
           "#19d3f3",
           "#FF6692",
           "#B6E880",
           "#FF97FF",
           "#FECB52"
          ],
          "font": {
           "color": "#2a3f5f"
          },
          "geo": {
           "bgcolor": "white",
           "lakecolor": "white",
           "landcolor": "#E5ECF6",
           "showlakes": true,
           "showland": true,
           "subunitcolor": "white"
          },
          "hoverlabel": {
           "align": "left"
          },
          "hovermode": "closest",
          "mapbox": {
           "style": "light"
          },
          "paper_bgcolor": "white",
          "plot_bgcolor": "#E5ECF6",
          "polar": {
           "angularaxis": {
            "gridcolor": "white",
            "linecolor": "white",
            "ticks": ""
           },
           "bgcolor": "#E5ECF6",
           "radialaxis": {
            "gridcolor": "white",
            "linecolor": "white",
            "ticks": ""
           }
          },
          "scene": {
           "xaxis": {
            "backgroundcolor": "#E5ECF6",
            "gridcolor": "white",
            "gridwidth": 2,
            "linecolor": "white",
            "showbackground": true,
            "ticks": "",
            "zerolinecolor": "white"
           },
           "yaxis": {
            "backgroundcolor": "#E5ECF6",
            "gridcolor": "white",
            "gridwidth": 2,
            "linecolor": "white",
            "showbackground": true,
            "ticks": "",
            "zerolinecolor": "white"
           },
           "zaxis": {
            "backgroundcolor": "#E5ECF6",
            "gridcolor": "white",
            "gridwidth": 2,
            "linecolor": "white",
            "showbackground": true,
            "ticks": "",
            "zerolinecolor": "white"
           }
          },
          "shapedefaults": {
           "line": {
            "color": "#2a3f5f"
           }
          },
          "ternary": {
           "aaxis": {
            "gridcolor": "white",
            "linecolor": "white",
            "ticks": ""
           },
           "baxis": {
            "gridcolor": "white",
            "linecolor": "white",
            "ticks": ""
           },
           "bgcolor": "#E5ECF6",
           "caxis": {
            "gridcolor": "white",
            "linecolor": "white",
            "ticks": ""
           }
          },
          "title": {
           "x": 0.05
          },
          "xaxis": {
           "automargin": true,
           "gridcolor": "white",
           "linecolor": "white",
           "ticks": "",
           "title": {
            "standoff": 15
           },
           "zerolinecolor": "white",
           "zerolinewidth": 2
          },
          "yaxis": {
           "automargin": true,
           "gridcolor": "white",
           "linecolor": "white",
           "ticks": "",
           "title": {
            "standoff": 15
           },
           "zerolinecolor": "white",
           "zerolinewidth": 2
          }
         }
        },
        "title": {
         "text": "Tree of Most Common Words"
        }
       }
      },
      "text/html": [
       "<div>                            <div id=\"df6a27cc-e80a-423c-bf32-4cb7a3e0be22\" class=\"plotly-graph-div\" style=\"height:525px; width:100%;\"></div>            <script type=\"text/javascript\">                require([\"plotly\"], function(Plotly) {                    window.PLOTLYENV=window.PLOTLYENV || {};                                    if (document.getElementById(\"df6a27cc-e80a-423c-bf32-4cb7a3e0be22\")) {                    Plotly.newPlot(                        \"df6a27cc-e80a-423c-bf32-4cb7a3e0be22\",                        [{\"branchvalues\":\"total\",\"domain\":{\"x\":[0.0,1.0],\"y\":[0.0,1.0]},\"hovertemplate\":\"labels=%{label}<br>count=%{value}<br>parent=%{parent}<br>id=%{id}<extra></extra>\",\"ids\":[\"Good\",\"and\",\"as\",\"but\",\"delivery\",\"fast\",\"for\",\"good\",\"in\",\"is\",\"not\",\"ok\",\"received\",\"sampai\",\"seller\",\"size\",\"the\",\"to\",\"very\",\"you\"],\"labels\":[\"Good\",\"and\",\"as\",\"but\",\"delivery\",\"fast\",\"for\",\"good\",\"in\",\"is\",\"not\",\"ok\",\"received\",\"sampai\",\"seller\",\"size\",\"the\",\"to\",\"very\",\"you\"],\"name\":\"\",\"parents\":[\"\",\"\",\"\",\"\",\"\",\"\",\"\",\"\",\"\",\"\",\"\",\"\",\"\",\"\",\"\",\"\",\"\",\"\",\"\",\"\"],\"values\":[60,167,56,55,66,58,115,272,83,114,68,81,62,57,72,67,137,84,65,54],\"type\":\"treemap\"}],                        {\"template\":{\"data\":{\"histogram2dcontour\":[{\"type\":\"histogram2dcontour\",\"colorbar\":{\"outlinewidth\":0,\"ticks\":\"\"},\"colorscale\":[[0.0,\"#0d0887\"],[0.1111111111111111,\"#46039f\"],[0.2222222222222222,\"#7201a8\"],[0.3333333333333333,\"#9c179e\"],[0.4444444444444444,\"#bd3786\"],[0.5555555555555556,\"#d8576b\"],[0.6666666666666666,\"#ed7953\"],[0.7777777777777778,\"#fb9f3a\"],[0.8888888888888888,\"#fdca26\"],[1.0,\"#f0f921\"]]}],\"choropleth\":[{\"type\":\"choropleth\",\"colorbar\":{\"outlinewidth\":0,\"ticks\":\"\"}}],\"histogram2d\":[{\"type\":\"histogram2d\",\"colorbar\":{\"outlinewidth\":0,\"ticks\":\"\"},\"colorscale\":[[0.0,\"#0d0887\"],[0.1111111111111111,\"#46039f\"],[0.2222222222222222,\"#7201a8\"],[0.3333333333333333,\"#9c179e\"],[0.4444444444444444,\"#bd3786\"],[0.5555555555555556,\"#d8576b\"],[0.6666666666666666,\"#ed7953\"],[0.7777777777777778,\"#fb9f3a\"],[0.8888888888888888,\"#fdca26\"],[1.0,\"#f0f921\"]]}],\"heatmap\":[{\"type\":\"heatmap\",\"colorbar\":{\"outlinewidth\":0,\"ticks\":\"\"},\"colorscale\":[[0.0,\"#0d0887\"],[0.1111111111111111,\"#46039f\"],[0.2222222222222222,\"#7201a8\"],[0.3333333333333333,\"#9c179e\"],[0.4444444444444444,\"#bd3786\"],[0.5555555555555556,\"#d8576b\"],[0.6666666666666666,\"#ed7953\"],[0.7777777777777778,\"#fb9f3a\"],[0.8888888888888888,\"#fdca26\"],[1.0,\"#f0f921\"]]}],\"heatmapgl\":[{\"type\":\"heatmapgl\",\"colorbar\":{\"outlinewidth\":0,\"ticks\":\"\"},\"colorscale\":[[0.0,\"#0d0887\"],[0.1111111111111111,\"#46039f\"],[0.2222222222222222,\"#7201a8\"],[0.3333333333333333,\"#9c179e\"],[0.4444444444444444,\"#bd3786\"],[0.5555555555555556,\"#d8576b\"],[0.6666666666666666,\"#ed7953\"],[0.7777777777777778,\"#fb9f3a\"],[0.8888888888888888,\"#fdca26\"],[1.0,\"#f0f921\"]]}],\"contourcarpet\":[{\"type\":\"contourcarpet\",\"colorbar\":{\"outlinewidth\":0,\"ticks\":\"\"}}],\"contour\":[{\"type\":\"contour\",\"colorbar\":{\"outlinewidth\":0,\"ticks\":\"\"},\"colorscale\":[[0.0,\"#0d0887\"],[0.1111111111111111,\"#46039f\"],[0.2222222222222222,\"#7201a8\"],[0.3333333333333333,\"#9c179e\"],[0.4444444444444444,\"#bd3786\"],[0.5555555555555556,\"#d8576b\"],[0.6666666666666666,\"#ed7953\"],[0.7777777777777778,\"#fb9f3a\"],[0.8888888888888888,\"#fdca26\"],[1.0,\"#f0f921\"]]}],\"surface\":[{\"type\":\"surface\",\"colorbar\":{\"outlinewidth\":0,\"ticks\":\"\"},\"colorscale\":[[0.0,\"#0d0887\"],[0.1111111111111111,\"#46039f\"],[0.2222222222222222,\"#7201a8\"],[0.3333333333333333,\"#9c179e\"],[0.4444444444444444,\"#bd3786\"],[0.5555555555555556,\"#d8576b\"],[0.6666666666666666,\"#ed7953\"],[0.7777777777777778,\"#fb9f3a\"],[0.8888888888888888,\"#fdca26\"],[1.0,\"#f0f921\"]]}],\"mesh3d\":[{\"type\":\"mesh3d\",\"colorbar\":{\"outlinewidth\":0,\"ticks\":\"\"}}],\"scatter\":[{\"fillpattern\":{\"fillmode\":\"overlay\",\"size\":10,\"solidity\":0.2},\"type\":\"scatter\"}],\"parcoords\":[{\"type\":\"parcoords\",\"line\":{\"colorbar\":{\"outlinewidth\":0,\"ticks\":\"\"}}}],\"scatterpolargl\":[{\"type\":\"scatterpolargl\",\"marker\":{\"colorbar\":{\"outlinewidth\":0,\"ticks\":\"\"}}}],\"bar\":[{\"error_x\":{\"color\":\"#2a3f5f\"},\"error_y\":{\"color\":\"#2a3f5f\"},\"marker\":{\"line\":{\"color\":\"#E5ECF6\",\"width\":0.5},\"pattern\":{\"fillmode\":\"overlay\",\"size\":10,\"solidity\":0.2}},\"type\":\"bar\"}],\"scattergeo\":[{\"type\":\"scattergeo\",\"marker\":{\"colorbar\":{\"outlinewidth\":0,\"ticks\":\"\"}}}],\"scatterpolar\":[{\"type\":\"scatterpolar\",\"marker\":{\"colorbar\":{\"outlinewidth\":0,\"ticks\":\"\"}}}],\"histogram\":[{\"marker\":{\"pattern\":{\"fillmode\":\"overlay\",\"size\":10,\"solidity\":0.2}},\"type\":\"histogram\"}],\"scattergl\":[{\"type\":\"scattergl\",\"marker\":{\"colorbar\":{\"outlinewidth\":0,\"ticks\":\"\"}}}],\"scatter3d\":[{\"type\":\"scatter3d\",\"line\":{\"colorbar\":{\"outlinewidth\":0,\"ticks\":\"\"}},\"marker\":{\"colorbar\":{\"outlinewidth\":0,\"ticks\":\"\"}}}],\"scattermapbox\":[{\"type\":\"scattermapbox\",\"marker\":{\"colorbar\":{\"outlinewidth\":0,\"ticks\":\"\"}}}],\"scatterternary\":[{\"type\":\"scatterternary\",\"marker\":{\"colorbar\":{\"outlinewidth\":0,\"ticks\":\"\"}}}],\"scattercarpet\":[{\"type\":\"scattercarpet\",\"marker\":{\"colorbar\":{\"outlinewidth\":0,\"ticks\":\"\"}}}],\"carpet\":[{\"aaxis\":{\"endlinecolor\":\"#2a3f5f\",\"gridcolor\":\"white\",\"linecolor\":\"white\",\"minorgridcolor\":\"white\",\"startlinecolor\":\"#2a3f5f\"},\"baxis\":{\"endlinecolor\":\"#2a3f5f\",\"gridcolor\":\"white\",\"linecolor\":\"white\",\"minorgridcolor\":\"white\",\"startlinecolor\":\"#2a3f5f\"},\"type\":\"carpet\"}],\"table\":[{\"cells\":{\"fill\":{\"color\":\"#EBF0F8\"},\"line\":{\"color\":\"white\"}},\"header\":{\"fill\":{\"color\":\"#C8D4E3\"},\"line\":{\"color\":\"white\"}},\"type\":\"table\"}],\"barpolar\":[{\"marker\":{\"line\":{\"color\":\"#E5ECF6\",\"width\":0.5},\"pattern\":{\"fillmode\":\"overlay\",\"size\":10,\"solidity\":0.2}},\"type\":\"barpolar\"}],\"pie\":[{\"automargin\":true,\"type\":\"pie\"}]},\"layout\":{\"autotypenumbers\":\"strict\",\"colorway\":[\"#636efa\",\"#EF553B\",\"#00cc96\",\"#ab63fa\",\"#FFA15A\",\"#19d3f3\",\"#FF6692\",\"#B6E880\",\"#FF97FF\",\"#FECB52\"],\"font\":{\"color\":\"#2a3f5f\"},\"hovermode\":\"closest\",\"hoverlabel\":{\"align\":\"left\"},\"paper_bgcolor\":\"white\",\"plot_bgcolor\":\"#E5ECF6\",\"polar\":{\"bgcolor\":\"#E5ECF6\",\"angularaxis\":{\"gridcolor\":\"white\",\"linecolor\":\"white\",\"ticks\":\"\"},\"radialaxis\":{\"gridcolor\":\"white\",\"linecolor\":\"white\",\"ticks\":\"\"}},\"ternary\":{\"bgcolor\":\"#E5ECF6\",\"aaxis\":{\"gridcolor\":\"white\",\"linecolor\":\"white\",\"ticks\":\"\"},\"baxis\":{\"gridcolor\":\"white\",\"linecolor\":\"white\",\"ticks\":\"\"},\"caxis\":{\"gridcolor\":\"white\",\"linecolor\":\"white\",\"ticks\":\"\"}},\"coloraxis\":{\"colorbar\":{\"outlinewidth\":0,\"ticks\":\"\"}},\"colorscale\":{\"sequential\":[[0.0,\"#0d0887\"],[0.1111111111111111,\"#46039f\"],[0.2222222222222222,\"#7201a8\"],[0.3333333333333333,\"#9c179e\"],[0.4444444444444444,\"#bd3786\"],[0.5555555555555556,\"#d8576b\"],[0.6666666666666666,\"#ed7953\"],[0.7777777777777778,\"#fb9f3a\"],[0.8888888888888888,\"#fdca26\"],[1.0,\"#f0f921\"]],\"sequentialminus\":[[0.0,\"#0d0887\"],[0.1111111111111111,\"#46039f\"],[0.2222222222222222,\"#7201a8\"],[0.3333333333333333,\"#9c179e\"],[0.4444444444444444,\"#bd3786\"],[0.5555555555555556,\"#d8576b\"],[0.6666666666666666,\"#ed7953\"],[0.7777777777777778,\"#fb9f3a\"],[0.8888888888888888,\"#fdca26\"],[1.0,\"#f0f921\"]],\"diverging\":[[0,\"#8e0152\"],[0.1,\"#c51b7d\"],[0.2,\"#de77ae\"],[0.3,\"#f1b6da\"],[0.4,\"#fde0ef\"],[0.5,\"#f7f7f7\"],[0.6,\"#e6f5d0\"],[0.7,\"#b8e186\"],[0.8,\"#7fbc41\"],[0.9,\"#4d9221\"],[1,\"#276419\"]]},\"xaxis\":{\"gridcolor\":\"white\",\"linecolor\":\"white\",\"ticks\":\"\",\"title\":{\"standoff\":15},\"zerolinecolor\":\"white\",\"automargin\":true,\"zerolinewidth\":2},\"yaxis\":{\"gridcolor\":\"white\",\"linecolor\":\"white\",\"ticks\":\"\",\"title\":{\"standoff\":15},\"zerolinecolor\":\"white\",\"automargin\":true,\"zerolinewidth\":2},\"scene\":{\"xaxis\":{\"backgroundcolor\":\"#E5ECF6\",\"gridcolor\":\"white\",\"linecolor\":\"white\",\"showbackground\":true,\"ticks\":\"\",\"zerolinecolor\":\"white\",\"gridwidth\":2},\"yaxis\":{\"backgroundcolor\":\"#E5ECF6\",\"gridcolor\":\"white\",\"linecolor\":\"white\",\"showbackground\":true,\"ticks\":\"\",\"zerolinecolor\":\"white\",\"gridwidth\":2},\"zaxis\":{\"backgroundcolor\":\"#E5ECF6\",\"gridcolor\":\"white\",\"linecolor\":\"white\",\"showbackground\":true,\"ticks\":\"\",\"zerolinecolor\":\"white\",\"gridwidth\":2}},\"shapedefaults\":{\"line\":{\"color\":\"#2a3f5f\"}},\"annotationdefaults\":{\"arrowcolor\":\"#2a3f5f\",\"arrowhead\":0,\"arrowwidth\":1},\"geo\":{\"bgcolor\":\"white\",\"landcolor\":\"#E5ECF6\",\"subunitcolor\":\"white\",\"showland\":true,\"showlakes\":true,\"lakecolor\":\"white\"},\"title\":{\"x\":0.05},\"mapbox\":{\"style\":\"light\"}}},\"legend\":{\"tracegroupgap\":0},\"title\":{\"text\":\"Tree of Most Common Words\"}},                        {\"responsive\": true}                    ).then(function(){\n",
       "                            \n",
       "var gd = document.getElementById('df6a27cc-e80a-423c-bf32-4cb7a3e0be22');\n",
       "var x = new MutationObserver(function (mutations, observer) {{\n",
       "        var display = window.getComputedStyle(gd).display;\n",
       "        if (!display || display === 'none') {{\n",
       "            console.log([gd, 'removed!']);\n",
       "            Plotly.purge(gd);\n",
       "            observer.disconnect();\n",
       "        }}\n",
       "}});\n",
       "\n",
       "// Listen for the removal of the full notebook cells\n",
       "var notebookContainer = gd.closest('#notebook-container');\n",
       "if (notebookContainer) {{\n",
       "    x.observe(notebookContainer, {childList: true});\n",
       "}}\n",
       "\n",
       "// Listen for the clearing of the current output cell\n",
       "var outputEl = gd.closest('.output');\n",
       "if (outputEl) {{\n",
       "    x.observe(outputEl, {childList: true});\n",
       "}}\n",
       "\n",
       "                        })                };                });            </script>        </div>"
      ]
     },
     "metadata": {},
     "output_type": "display_data"
    }
   ],
   "source": [
    "fig = px.treemap(temp, path=['Common_words'], values='count',title='Tree of Most Common Words')\n",
    "fig.show()"
   ]
  },
  {
   "cell_type": "code",
   "execution_count": 33,
   "id": "980b707a",
   "metadata": {},
   "outputs": [
    {
     "name": "stdout",
     "output_type": "stream",
     "text": [
      "Distribution of Character Lengths:\n",
      "2      32\n",
      "3       5\n",
      "4      49\n",
      "5       6\n",
      "6      10\n",
      "       ..\n",
      "295     1\n",
      "306     1\n",
      "344     1\n",
      "372     1\n",
      "385     1\n",
      "Name: content_length, Length: 175, dtype: int64\n"
     ]
    },
    {
     "data": {
      "image/png": "[encoded data removed]",
      "text/plain": [
       "<Figure size 1000x600 with 1 Axes>"
      ]
     },
     "metadata": {},
     "output_type": "display_data"
    }
   ],
   "source": [
    "import matplotlib.pyplot as plt\n",
    "\n",
    "#calculate the total characters for each review\n",
    "data['content_length'] = data['content'].fillna('').apply(len)\n",
    "\n",
    "\n",
    "# List unique character lengths and their counts\n",
    "length_counts = data['content_length'].value_counts().sort_index()\n",
    "\n",
    "# Display the distribution\n",
    "print(\"Distribution of Character Lengths:\")\n",
    "print(length_counts)\n",
    "\n",
    "# Plot a histogram\n",
    "plt.figure(figsize=(10, 6))\n",
    "plt.hist(data['content_length'], bins=20, color='skyblue', edgecolor='black')\n",
    "plt.title('Distribution of Character Lengths in Reviews')\n",
    "plt.xlabel('Character Length')\n",
    "plt.ylabel('Frequency')\n",
    "plt.grid(axis='y', linestyle='--', alpha=0.7)\n",
    "plt.show()"
   ]
  },
  {
   "cell_type": "markdown",
   "id": "671ca792",
   "metadata": {},
   "source": [
    "# Preprocessing stage\n",
    "1. Remove all words that contain numbers\n",
    "2. Make all the text lowercase\n",
    "3. Remove punctuation\n",
    "4. Tokenize the reviews into words"
   ]
  },
  {
   "cell_type": "markdown",
   "id": "74a1e363",
   "metadata": {},
   "source": [
    "## remove numbers"
   ]
  },
  {
   "cell_type": "code",
   "execution_count": 34,
   "id": "dbb434db",
   "metadata": {},
   "outputs": [
    {
     "name": "stdout",
     "output_type": "stream",
     "text": [
      "Before removing number:\n",
      "\n",
      "Size:  order size 36/37 , yg dapat 38/39 . Besar gilerrrrr , spoil mood nak buat pakai time bersalin nanti 😪 Chat seller , tak respon langsung . Padahal dah read baca tu , kalau size and colournya takde . Inform dulu customer , jgn main pos je size and colour lain pada customer !!!!!!!\n",
      "\n",
      "After removing number:\n",
      "\n",
      "Size:  order size / , yg dapat / . Besar gilerrrrr , spoil mood nak buat pakai time bersalin nanti 😪 Chat seller , tak respon langsung . Padahal dah read baca tu , kalau size and colournya takde . Inform dulu customer , jgn main pos je size and colour lain pada customer !!!!!!!\n"
     ]
    }
   ],
   "source": [
    "print(\"Before removing number:\\n\")\n",
    "print(data.content.loc[37])\n",
    "#Remove words that contain numbers\n",
    "df = pd.DataFrame(data)\n",
    "\n",
    "df['content'] = df['content'].str.replace(r'\\b\\w*\\d\\w*\\b', '', regex=True)\n",
    "print(\"\\nAfter removing number:\\n\")\n",
    "print(df.content.loc[37])"
   ]
  },
  {
   "cell_type": "markdown",
   "id": "5e1bd48a",
   "metadata": {},
   "source": [
    "## transform texts to lowercase"
   ]
  },
  {
   "cell_type": "code",
   "execution_count": 35,
   "id": "092d31cd",
   "metadata": {},
   "outputs": [
    {
     "name": "stdout",
     "output_type": "stream",
     "text": [
      "Before lowercasing:\n",
      "Design:selipar dia nampak nipis sbb dlm gmbr mcm tebal\n",
      "\n",
      "After lowercasing:\n",
      "design:selipar dia nampak nipis sbb dlm gmbr mcm tebal\n"
     ]
    }
   ],
   "source": [
    "print(\"Before lowercasing:\")\n",
    "print(df.content.loc[36])\n",
    "#make text to lowercase\n",
    "df['content'] = df['content'].str.lower()\n",
    "\n",
    "print(\"\\nAfter lowercasing:\")\n",
    "print(df.content.loc[36])"
   ]
  },
  {
   "cell_type": "markdown",
   "id": "14ccdfe1",
   "metadata": {},
   "source": [
    "## Handling Abbreviation"
   ]
  },
  {
   "cell_type": "code",
   "execution_count": 36,
   "id": "cde46105",
   "metadata": {},
   "outputs": [
    {
     "name": "stdout",
     "output_type": "stream",
     "text": [
      "Before handling abbreviation:\n",
      "design:selipar dia nampak nipis sbb dlm gmbr mcm tebal\n",
      "After handling abbreviation:\n",
      "design:selipar dia nampak nipis sebab dalam gambar macam tebal\n"
     ]
    }
   ],
   "source": [
    "print(\"Before handling abbreviation:\")\n",
    "print(df.content.loc[36])\n",
    "# Function to load a custom dictionary from a CSV file\n",
    "def load_custom_dict(file_path):\n",
    "    custom_dict_df = pd.read_csv(file_path, encoding='utf-8')\n",
    "    custom_dict = dict(zip(custom_dict_df['original'], custom_dict_df['translation']))\n",
    "    return custom_dict\n",
    "\n",
    "# Function to replace words using a custom dictionary\n",
    "def replace_with_custom_dict(text, custom_dict):\n",
    "    words = text.split()\n",
    "    translated_words = [custom_dict.get(word, word) for word in words]\n",
    "    return ' '.join(translated_words)\n",
    "\n",
    "# Load the custom dictionary from the CSV file\n",
    "custom_dict_path = 'dict.csv'\n",
    "custom_dict = load_custom_dict(custom_dict_path)\n",
    "\n",
    "# Apply the function to the 'content' column\n",
    "df['content'] = df['content'].apply(lambda x: replace_with_custom_dict(x, custom_dict))\n",
    "print(\"After handling abbreviation:\")\n",
    "print(df.content.loc[36])"
   ]
  },
  {
   "cell_type": "markdown",
   "id": "2f4f93b2",
   "metadata": {},
   "source": [
    "## Emoji Mapping"
   ]
  },
  {
   "cell_type": "code",
   "execution_count": 37,
   "id": "718cee92",
   "metadata": {},
   "outputs": [
    {
     "name": "stdout",
     "output_type": "stream",
     "text": [
      "Before emoji mapping:\n",
      "很很薄很薄😔\n",
      "After emoji mapping:\n",
      "很很薄很薄pensive_face\n"
     ]
    }
   ],
   "source": [
    "print(\"Before emoji mapping:\")\n",
    "print(df.content.iloc[6])\n",
    "try:\n",
    "    import cPickle as pickle\n",
    "except ImportError: \n",
    "    import pickle\n",
    "import re\n",
    "\n",
    "with open('Emoji_Dict.p', 'rb') as fp:\n",
    "    Emoji_Dict = pickle.load(fp)\n",
    "Emoji_Dict = {v: k for k, v in Emoji_Dict.items()}\n",
    "\n",
    "def convert_emojis_to_word(text):\n",
    "    for emot in Emoji_Dict:\n",
    "        text = re.sub(r'('+emot+')', \"_\".join(Emoji_Dict[emot].replace(\",\",\"\").replace(\":\",\"\").split()), text)\n",
    "    return text\n",
    "\n",
    "df['content']  = df['content'].apply(convert_emojis_to_word)\n",
    "print(\"After emoji mapping:\")\n",
    "print(df.content.iloc[6])"
   ]
  },
  {
   "cell_type": "code",
   "execution_count": 38,
   "id": "642c6aec",
   "metadata": {},
   "outputs": [],
   "source": [
    "df.to_csv('emoji_mapped.csv', index=False)"
   ]
  },
  {
   "cell_type": "markdown",
   "id": "47b24efc",
   "metadata": {},
   "source": [
    "## Remove Emoji"
   ]
  },
  {
   "cell_type": "code",
   "execution_count": 39,
   "id": "abc3ab10",
   "metadata": {},
   "outputs": [
    {
     "name": "stdout",
     "output_type": "stream",
     "text": [
      "                                                content  \\\n",
      "0     received items not the same as advertised. the...   \n",
      "1                            the item not as advertised   \n",
      "2     dalam gambar tebal sudah terima selipar tipis....   \n",
      "3                          order green dapat oren, sad.   \n",
      "4     oder black and green but arrived black and yel...   \n",
      "...                                                 ...   \n",
      "996                    not the one shown in pictures!!!   \n",
      "997                      货不对版 ….but shipping service ok   \n",
      "998                               wrong colour and size   \n",
      "999   price is cheap but again it is not what i like...   \n",
      "1000  overall not as expected...but the price can't ...   \n",
      "\n",
      "                                              temp_list  content_length  \n",
      "0     [Received, items, not, the, same, as, advertis...             159  \n",
      "1                      [the, item, not, as, advertised]              26  \n",
      "2     [dalam, gambar, tebal, dah, terima, selipar, t...              99  \n",
      "3                    [order, green, dapat, Oren,, sad.]              28  \n",
      "4     [oder, black, and, green, but, arrived, black,...              51  \n",
      "...                                                 ...             ...  \n",
      "996             [Not, the, one, shown, in, pictures!!!]              32  \n",
      "997                [货不对版, ….but, shipping, service, ok]              30  \n",
      "998                          [wrong, colour, and, size]              21  \n",
      "999   [Price, is, cheap, but, again, it, is, not, wh...             209  \n",
      "1000  [overall, not, as, expected...but, the, price,...              76  \n",
      "\n",
      "[1001 rows x 3 columns]\n"
     ]
    }
   ],
   "source": [
    "import emoji\n",
    "\n",
    "# Function to remove emojis\n",
    "def remove_emojis(text):\n",
    "    return ''.join(char for char in text if not emoji.emoji_count(char))\n",
    "\n",
    "# Apply the function to the 'content' column\n",
    "df['content'] = df['content'].apply(remove_emojis)\n",
    "\n",
    "print(df)"
   ]
  },
  {
   "cell_type": "markdown",
   "id": "b72e69a4",
   "metadata": {},
   "source": [
    "## Translate"
   ]
  },
  {
   "cell_type": "code",
   "execution_count": 40,
   "id": "ee1585d7",
   "metadata": {},
   "outputs": [],
   "source": [
    "#pip install googletrans==4.0.0-rc1"
   ]
  },
  {
   "cell_type": "code",
   "execution_count": 41,
   "id": "a7e07698",
   "metadata": {},
   "outputs": [
    {
     "name": "stdout",
     "output_type": "stream",
     "text": [
      "Before translating:\n",
      "货不对版 ….but shipping service ok\n",
      "Before translating:\n",
      "The goods are not right ... .But Shipping Service OK\n"
     ]
    }
   ],
   "source": [
    "print(\"Before translating:\")\n",
    "print(df.content.iloc[997])\n",
    "from googletrans import Translator\n",
    "from langid import classify\n",
    "def translate_text(text, target_language='en', custom_dict=None):\n",
    "    try:\n",
    "        # Detect the language of the text\n",
    "        lang, _ = classify(text)\n",
    "        \n",
    "        # Translate only if the detected language is not the target language\n",
    "        if lang != target_language:\n",
    "            translator = Translator()\n",
    "            translation = translator.translate(text, dest=target_language)\n",
    "            return translation.text\n",
    "        else:\n",
    "            return text  # Return the original text if it's already in the target language\n",
    "    except Exception as e:\n",
    "        print(f\"Error during translation: {e}\")\n",
    "        return text  # Return the original text in case of an error\n",
    "    \n",
    "    \n",
    "df[\"content\"] = df[\"content\"].apply(translate_text, target_language='en')\n",
    "print(\"Before translating:\")\n",
    "print(df.content.iloc[997])"
   ]
  },
  {
   "cell_type": "code",
   "execution_count": 42,
   "id": "9b1618c7",
   "metadata": {},
   "outputs": [],
   "source": [
    "#make text to lowercase again because some texts transformed into uppercase after translation\n",
    "df['content'] = df['content'].str.lower()"
   ]
  },
  {
   "cell_type": "code",
   "execution_count": 43,
   "id": "37f2191a",
   "metadata": {},
   "outputs": [
    {
     "name": "stdout",
     "output_type": "stream",
     "text": [
      "0       received items not the same as advertised. the...\n",
      "1                              the item not as advertised\n",
      "2       in the thick picture you have received a thin ...\n",
      "3                            order green dapat oren, sad.\n",
      "4       oder black and green but arrived black and yel...\n",
      "                              ...                        \n",
      "996                      not the one shown in pictures!!!\n",
      "997     the goods are not right ... .but shipping serv...\n",
      "998                                 wrong colour and size\n",
      "999     price is cheap but again it is not what i like...\n",
      "1000    overall not as expected...but the price can't ...\n",
      "Name: content, Length: 1001, dtype: object\n"
     ]
    }
   ],
   "source": [
    "print(df.content)"
   ]
  },
  {
   "cell_type": "markdown",
   "id": "a720a03a",
   "metadata": {},
   "source": [
    "# spell checker"
   ]
  },
  {
   "cell_type": "code",
   "execution_count": 44,
   "id": "c84ee89f",
   "metadata": {},
   "outputs": [
    {
     "name": "stdout",
     "output_type": "stream",
     "text": [
      "Before spelling checking:\n",
      "photo and stock recd are different. low quality. first and last time purchase.\n",
      "After spelling checking:\n",
      "photo and stock read are different low quality first and last time purchase\n"
     ]
    }
   ],
   "source": [
    "from spellchecker import SpellChecker\n",
    "print(\"Before spelling checking:\")\n",
    "print(df.content.iloc[61])\n",
    "# Function to correct spelling errors for English words\n",
    "def correct_spelling(text):\n",
    "    spell = SpellChecker()\n",
    "    words = text.split()\n",
    "    corrected_words = [spell.correction(word) if spell.correction(word) is not None else word for word in words]\n",
    "    corrected_text = ' '.join(corrected_words)\n",
    "    return corrected_text\n",
    "\n",
    "# Apply the spelling correction function to the 'content' column\n",
    "df['content'] = df['content'].apply(correct_spelling)\n",
    "\n",
    "print(\"After spelling checking:\")\n",
    "print(df.content.iloc[61])\n"
   ]
  },
  {
   "cell_type": "code",
   "execution_count": 45,
   "id": "ff8935ad",
   "metadata": {},
   "outputs": [],
   "source": [
    "df.to_csv('spellchecker_checkpoint.csv', index=False)"
   ]
  },
  {
   "cell_type": "code",
   "execution_count": 46,
   "id": "15140783",
   "metadata": {},
   "outputs": [
    {
     "name": "stdout",
     "output_type": "stream",
     "text": [
      "                                                content  \\\n",
      "0     received items not the same as advertised they...   \n",
      "1                            the item not as advertised   \n",
      "2     in the thick picture you have received a thin ...   \n",
      "3                            order green apart oren sad   \n",
      "4     oder black and green but arrived black and yel...   \n",
      "...                                                 ...   \n",
      "996                    not the one shown in pictures!!!   \n",
      "997   the goods are not right ... but shipping servi...   \n",
      "998                               wrong colour and size   \n",
      "999   price is cheap but again it is not what i like...   \n",
      "1000  overall not as expected...but the price can't ...   \n",
      "\n",
      "                                              temp_list  content_length  \n",
      "0     ['Received', 'items', 'not', 'the', 'same', 'a...             159  \n",
      "1            ['the', 'item', 'not', 'as', 'advertised']              26  \n",
      "2     ['dalam', 'gambar', 'tebal', 'dah', 'terima', ...              99  \n",
      "3          ['order', 'green', 'dapat', 'Oren,', 'sad.']              28  \n",
      "4     ['oder', 'black', 'and', 'green', 'but', 'arri...              51  \n",
      "...                                                 ...             ...  \n",
      "996   ['Not', 'the', 'one', 'shown', 'in', 'pictures...              32  \n",
      "997      ['货不对版', '….but', 'shipping', 'service', 'ok']              30  \n",
      "998                  ['wrong', 'colour', 'and', 'size']              21  \n",
      "999   ['Price', 'is', 'cheap', 'but', 'again', 'it',...             209  \n",
      "1000  ['overall', 'not', 'as', 'expected...but', 'th...              76  \n",
      "\n",
      "[1001 rows x 3 columns]\n"
     ]
    }
   ],
   "source": [
    "df = pd.read_csv(\"spellchecker_checkpoint.csv\")\n",
    "print(df)"
   ]
  },
  {
   "cell_type": "code",
   "execution_count": 47,
   "id": "5ec47cb0",
   "metadata": {},
   "outputs": [
    {
     "name": "stdout",
     "output_type": "stream",
     "text": [
      "                                                content  \\\n",
      "0     received items not the same as advertised they...   \n",
      "1                            the item not as advertised   \n",
      "2     in the thick picture you have received a thin ...   \n",
      "3                            order green apart oren sad   \n",
      "4     oder black and green but arrived black and yel...   \n",
      "...                                                 ...   \n",
      "996                    not the one shown in pictures!!!   \n",
      "997   the goods are not right ... but shipping servi...   \n",
      "998                               wrong colour and size   \n",
      "999   price is cheap but again it is not what i like...   \n",
      "1000  overall not as expected...but the price can't ...   \n",
      "\n",
      "                                              temp_list  content_length  \n",
      "0     ['Received', 'items', 'not', 'the', 'same', 'a...             159  \n",
      "1            ['the', 'item', 'not', 'as', 'advertised']              26  \n",
      "2     ['dalam', 'gambar', 'tebal', 'dah', 'terima', ...              99  \n",
      "3          ['order', 'green', 'dapat', 'Oren,', 'sad.']              28  \n",
      "4     ['oder', 'black', 'and', 'green', 'but', 'arri...              51  \n",
      "...                                                 ...             ...  \n",
      "996   ['Not', 'the', 'one', 'shown', 'in', 'pictures...              32  \n",
      "997      ['货不对版', '….but', 'shipping', 'service', 'ok']              30  \n",
      "998                  ['wrong', 'colour', 'and', 'size']              21  \n",
      "999   ['Price', 'is', 'cheap', 'but', 'again', 'it',...             209  \n",
      "1000  ['overall', 'not', 'as', 'expected...but', 'th...              76  \n",
      "\n",
      "[1001 rows x 3 columns]\n"
     ]
    }
   ],
   "source": [
    "print(df)"
   ]
  },
  {
   "cell_type": "markdown",
   "id": "9830ebed",
   "metadata": {},
   "source": [
    "## remove punctuation"
   ]
  },
  {
   "cell_type": "code",
   "execution_count": 48,
   "id": "55ad7a16",
   "metadata": {},
   "outputs": [
    {
     "name": "stdout",
     "output_type": "stream",
     "text": [
      "Before removing punctuation:\n",
      "the goods are not right ... but shipping service ok\n",
      "After removing punctuation:\n",
      "the goods are not right     but shipping service ok\n"
     ]
    }
   ],
   "source": [
    "print(\"Before removing punctuation:\")\n",
    "print(df.content.iloc[997])\n",
    "\n",
    "import string\n",
    "# Function to remove punctuation including Chinese and Malay punctuation\n",
    "def remove_punctuation(text):\n",
    "    # Extend the character class to include Chinese and Malay punctuation\n",
    "    punctuation_pattern = f\"[{string.punctuation}，。、【】‘’“” …《》！？·；：「」『』【】〔〕〈〉﹝﹞〖〗〘〙〚〛〇〡〢〣〤〥〦〧〨〩〪〭〮〯〫〬〰〱〲〳〴〵〶〷〸〹〺〻〼〽〾〿]\"\n",
    "    \n",
    "    # Replace punctuation with a space\n",
    "    cleaned_text = re.sub(punctuation_pattern, ' ', text)\n",
    "    \n",
    "    return cleaned_text\n",
    "\n",
    "# Apply the function to the 'content' column in the DataFrame\n",
    "df['content'] = df['content'].apply(remove_punctuation)\n",
    "\n",
    "#remove \"\\n\"\n",
    "def remove_newline_characters(text):\n",
    "    if pd.notna(text):\n",
    "        return str(text).replace('\\n', ' ')\n",
    "    else:\n",
    "        return text\n",
    "\n",
    "df['content'] = df['content'].apply(remove_newline_characters)\n",
    "\n",
    "print(\"After removing punctuation:\")\n",
    "print(df.content.iloc[997])"
   ]
  },
  {
   "cell_type": "markdown",
   "id": "19f18d6b",
   "metadata": {},
   "source": [
    "## Tokenization"
   ]
  },
  {
   "cell_type": "code",
   "execution_count": 49,
   "id": "59b031e2",
   "metadata": {},
   "outputs": [],
   "source": [
    "#pip install langid\n",
    "#pip install emoji"
   ]
  },
  {
   "cell_type": "code",
   "execution_count": 50,
   "id": "89d4632a",
   "metadata": {},
   "outputs": [
    {
     "name": "stdout",
     "output_type": "stream",
     "text": [
      "Before tokenization:\n",
      "the goods are not right     but shipping service ok\n",
      "After tokenization:\n",
      "['the', 'goods', 'are', 'not', 'right', 'but', 'shipping', 'service', 'ok']\n"
     ]
    }
   ],
   "source": [
    "import spacy\n",
    "from nltk.tokenize import word_tokenize\n",
    "print(\"Before tokenization:\")\n",
    "print(df.content.iloc[997])\n",
    "# Load spaCy English model\n",
    "nlp_en = spacy.load(\"en_core_web_sm\")\n",
    "\n",
    "# Function to tokenize English text\n",
    "def tokenize_english(text):\n",
    "    if not isinstance(text, str):\n",
    "        return []\n",
    "\n",
    "    # Tokenize English text using spaCy\n",
    "    tokens = [token.text for token in nlp_en(text)]\n",
    "\n",
    "    # Remove spaces and single characters\n",
    "    tokens = [token.strip() for token in tokens if token.strip() and len(token.strip()) > 1]\n",
    "\n",
    "    return tokens\n",
    "\n",
    "# Handle NaN values in 'content' column\n",
    "df['content'] = df['content'].fillna('')\n",
    "\n",
    "# Tokenize only English comments into words\n",
    "df['tokenized_content'] = df['content'].apply(tokenize_english)\n",
    "\n",
    "print(\"After tokenization:\")\n",
    "print(df.tokenized_content.iloc[997])"
   ]
  },
  {
   "cell_type": "markdown",
   "id": "3f898b4a",
   "metadata": {},
   "source": [
    "# Normalisation "
   ]
  },
  {
   "cell_type": "markdown",
   "id": "40382e5a",
   "metadata": {},
   "source": [
    "## Lemmatization"
   ]
  },
  {
   "cell_type": "code",
   "execution_count": 51,
   "id": "21457094",
   "metadata": {},
   "outputs": [
    {
     "name": "stdout",
     "output_type": "stream",
     "text": [
      "                                                content  \\\n",
      "0     received items not the same as advertised they...   \n",
      "1                            the item not as advertised   \n",
      "2     in the thick picture you have received a thin ...   \n",
      "3                            order green apart oren sad   \n",
      "4     oder black and green but arrived black and yel...   \n",
      "...                                                 ...   \n",
      "996                    not the one shown in pictures      \n",
      "997   the goods are not right     but shipping servi...   \n",
      "998                               wrong colour and size   \n",
      "999   price is cheap but again it is not what i like...   \n",
      "1000  overall not as expected   but the price can t ...   \n",
      "\n",
      "                                      tokenized_content  \\\n",
      "0     [received, items, not, the, same, as, advertis...   \n",
      "1                      [the, item, not, as, advertised]   \n",
      "2     [in, the, thick, picture, you, have, received,...   \n",
      "3                      [order, green, apart, oren, sad]   \n",
      "4     [oder, black, and, green, but, arrived, black,...   \n",
      "...                                                 ...   \n",
      "996                [not, the, one, shown, in, pictures]   \n",
      "997   [the, goods, are, not, right, but, shipping, s...   \n",
      "998                          [wrong, colour, and, size]   \n",
      "999   [price, is, cheap, but, again, it, is, not, wh...   \n",
      "1000  [overall, not, as, expected, but, the, price, ...   \n",
      "\n",
      "                                     lemmatized_content  \n",
      "0     [receive, item, not, the, same, as, advertise,...  \n",
      "1                       [the, item, not, as, advertise]  \n",
      "2     [in, the, thick, picture, you, have, receive, ...  \n",
      "3                      [order, green, apart, oren, sad]  \n",
      "4     [oder, black, and, green, but, arrive, black, ...  \n",
      "...                                                 ...  \n",
      "996                  [not, the, one, show, in, picture]  \n",
      "997   [the, good, be, not, right, but, shipping, ser...  \n",
      "998                          [wrong, colour, and, size]  \n",
      "999   [price, be, cheap, but, again, it, be, not, wh...  \n",
      "1000  [overall, not, as, expect, but, the, price, ca...  \n",
      "\n",
      "[1001 rows x 3 columns]\n"
     ]
    }
   ],
   "source": [
    "# python -m spacy download en_core_web_sm\n",
    "\n",
    "import langid\n",
    "\n",
    "def detect_language(text):\n",
    "    lang, confidence = langid.classify(text)\n",
    "    return lang\n",
    "\n",
    "# Load spaCy model for English\n",
    "nlp_en = spacy.load(\"en_core_web_sm\")\n",
    "\n",
    "# Function for lemmatization\n",
    "def lemmatize_english(tokens):\n",
    "    # Using spaCy for English lemmatization\n",
    "    doc = nlp_en(' '.join(tokens))\n",
    "    lemmatized_tokens = [token.lemma_ for token in doc]\n",
    "    return lemmatized_tokens\n",
    "\n",
    "# Lemmatize only English tokenized comments\n",
    "df['lemmatized_content'] = df['tokenized_content'].apply(lemmatize_english)\n",
    "\n",
    "print(df[['content', 'tokenized_content', 'lemmatized_content']])\n"
   ]
  },
  {
   "cell_type": "code",
   "execution_count": 52,
   "id": "47836395",
   "metadata": {},
   "outputs": [
    {
     "name": "stdout",
     "output_type": "stream",
     "text": [
      "Before lemmatization:\n"
     ]
    },
    {
     "data": {
      "text/plain": [
       "['the', 'goods', 'are', 'not', 'right', 'but', 'shipping', 'service', 'ok']"
      ]
     },
     "execution_count": 52,
     "metadata": {},
     "output_type": "execute_result"
    }
   ],
   "source": [
    "print(\"Before lemmatization:\")\n",
    "df.tokenized_content.iloc[997]\n"
   ]
  },
  {
   "cell_type": "code",
   "execution_count": 53,
   "id": "139bd83f",
   "metadata": {},
   "outputs": [
    {
     "name": "stdout",
     "output_type": "stream",
     "text": [
      "After lemmatization:\n"
     ]
    },
    {
     "data": {
      "text/plain": [
       "['the', 'good', 'be', 'not', 'right', 'but', 'shipping', 'service', 'ok']"
      ]
     },
     "execution_count": 53,
     "metadata": {},
     "output_type": "execute_result"
    }
   ],
   "source": [
    "print(\"After lemmatization:\")\n",
    "df.lemmatized_content.iloc[997]"
   ]
  },
  {
   "cell_type": "markdown",
   "id": "947ca0ea",
   "metadata": {},
   "source": [
    "## Stopwords removal"
   ]
  },
  {
   "cell_type": "code",
   "execution_count": 54,
   "id": "b55d1896",
   "metadata": {},
   "outputs": [
    {
     "name": "stdout",
     "output_type": "stream",
     "text": [
      "                                     lemmatized_content  \\\n",
      "0     [receive, item, not, the, same, as, advertise,...   \n",
      "1                       [the, item, not, as, advertise]   \n",
      "2     [in, the, thick, picture, you, have, receive, ...   \n",
      "3                      [order, green, apart, oren, sad]   \n",
      "4     [oder, black, and, green, but, arrive, black, ...   \n",
      "...                                                 ...   \n",
      "996                  [not, the, one, show, in, picture]   \n",
      "997   [the, good, be, not, right, but, shipping, ser...   \n",
      "998                          [wrong, colour, and, size]   \n",
      "999   [price, be, cheap, but, again, it, be, not, wh...   \n",
      "1000  [overall, not, as, expect, but, the, price, ca...   \n",
      "\n",
      "                             filtered_tokenized_content  \n",
      "0     [receive, item, not_, advertise, thin, light, ...  \n",
      "1                               [item, not_, advertise]  \n",
      "2     [thick, picture, receive, thin, slipper, use, ...  \n",
      "3                      [order, green, apart, oren, sad]  \n",
      "4     [oder, black, green, arrive, black, yellow, th...  \n",
      "...                                                 ...  \n",
      "996                          [not_, one, show, picture]  \n",
      "997          [good, not_, right, shipping, service, ok]  \n",
      "998                               [wrong, colour, size]  \n",
      "999   [price, cheap, not_, like, last, time, expire,...  \n",
      "1000  [overall, not_, expect, price, argue, like, sl...  \n",
      "\n",
      "[1001 rows x 2 columns]\n"
     ]
    },
    {
     "name": "stderr",
     "output_type": "stream",
     "text": [
      "[nltk_data] Downloading package stopwords to\n",
      "[nltk_data]     C:\\Users\\wongy\\AppData\\Roaming\\nltk_data...\n",
      "[nltk_data]   Package stopwords is already up-to-date!\n"
     ]
    }
   ],
   "source": [
    "\n",
    "nltk.download('stopwords')\n",
    "\n",
    "# Download English stopwords list\n",
    "stop_words_en = set(nltk.corpus.stopwords.words('english'))\n",
    "\n",
    "# Function to remove English stopwords, add prefix \"_\" after \"no\"\n",
    "def remove_english_stopwords(tokens):\n",
    "    filtered_tokens = []\n",
    "    for token in tokens:\n",
    "        lower_token = token.lower()\n",
    "        if lower_token == 'not':\n",
    "            filtered_tokens.append(token + '_')\n",
    "        elif lower_token not in stop_words_en:\n",
    "            filtered_tokens.append(token)\n",
    "    return filtered_tokens\n",
    "\n",
    "# Handle NaN values in 'lemmatized_content' column\n",
    "df['lemmatized_content'] = df['lemmatized_content'].fillna('')\n",
    "\n",
    "# Remove English stopwords for each token in 'lemmatized_content' column\n",
    "df['filtered_tokenized_content'] = df['lemmatized_content'].apply(remove_english_stopwords)\n",
    "\n",
    "# Print the DataFrame with the additional 'filtered_tokenized_content' column\n",
    "print(df[['lemmatized_content', 'filtered_tokenized_content']])\n"
   ]
  },
  {
   "cell_type": "code",
   "execution_count": 55,
   "id": "c752ccb2",
   "metadata": {},
   "outputs": [
    {
     "name": "stdout",
     "output_type": "stream",
     "text": [
      "Before removing stopwords:\n",
      "['wrong', 'colour', 'and', 'size']\n",
      "After removing stopwords:\n",
      "['wrong', 'colour', 'size']\n"
     ]
    }
   ],
   "source": [
    "print(\"Before removing stopwords:\")\n",
    "print(df.tokenized_content.iloc[998])\n",
    "print(\"After removing stopwords:\")\n",
    "print(df.filtered_tokenized_content.iloc[998])"
   ]
  },
  {
   "cell_type": "code",
   "execution_count": 56,
   "id": "0e11f5a7",
   "metadata": {},
   "outputs": [
    {
     "data": {
      "text/html": [
       "<style type=\"text/css\">\n",
       "#T_1f137_row0_col1 {\n",
       "  background-color: #3f007d;\n",
       "  color: #f1f1f1;\n",
       "}\n",
       "#T_1f137_row1_col1 {\n",
       "  background-color: #9591c4;\n",
       "  color: #f1f1f1;\n",
       "}\n",
       "#T_1f137_row2_col1 {\n",
       "  background-color: #bdbedc;\n",
       "  color: #000000;\n",
       "}\n",
       "#T_1f137_row3_col1 {\n",
       "  background-color: #c4c5e0;\n",
       "  color: #000000;\n",
       "}\n",
       "#T_1f137_row4_col1 {\n",
       "  background-color: #dadaeb;\n",
       "  color: #000000;\n",
       "}\n",
       "#T_1f137_row5_col1, #T_1f137_row6_col1 {\n",
       "  background-color: #dcdcec;\n",
       "  color: #000000;\n",
       "}\n",
       "#T_1f137_row7_col1 {\n",
       "  background-color: #dedeed;\n",
       "  color: #000000;\n",
       "}\n",
       "#T_1f137_row8_col1 {\n",
       "  background-color: #e1e0ee;\n",
       "  color: #000000;\n",
       "}\n",
       "#T_1f137_row9_col1 {\n",
       "  background-color: #e3e2ef;\n",
       "  color: #000000;\n",
       "}\n",
       "#T_1f137_row10_col1 {\n",
       "  background-color: #e7e6f1;\n",
       "  color: #000000;\n",
       "}\n",
       "#T_1f137_row11_col1 {\n",
       "  background-color: #ebe9f3;\n",
       "  color: #000000;\n",
       "}\n",
       "#T_1f137_row12_col1 {\n",
       "  background-color: #f0eef5;\n",
       "  color: #000000;\n",
       "}\n",
       "#T_1f137_row13_col1 {\n",
       "  background-color: #f7f5fa;\n",
       "  color: #000000;\n",
       "}\n",
       "#T_1f137_row14_col1 {\n",
       "  background-color: #f8f7fa;\n",
       "  color: #000000;\n",
       "}\n",
       "#T_1f137_row15_col1 {\n",
       "  background-color: #f9f7fb;\n",
       "  color: #000000;\n",
       "}\n",
       "#T_1f137_row16_col1 {\n",
       "  background-color: #faf9fc;\n",
       "  color: #000000;\n",
       "}\n",
       "#T_1f137_row17_col1, #T_1f137_row18_col1 {\n",
       "  background-color: #fcfbfd;\n",
       "  color: #000000;\n",
       "}\n",
       "</style>\n",
       "<table id=\"T_1f137\">\n",
       "  <thead>\n",
       "    <tr>\n",
       "      <th class=\"blank level0\" >&nbsp;</th>\n",
       "      <th id=\"T_1f137_level0_col0\" class=\"col_heading level0 col0\" >Common_words</th>\n",
       "      <th id=\"T_1f137_level0_col1\" class=\"col_heading level0 col1\" >count</th>\n",
       "    </tr>\n",
       "  </thead>\n",
       "  <tbody>\n",
       "    <tr>\n",
       "      <th id=\"T_1f137_level0_row0\" class=\"row_heading level0 row0\" >1</th>\n",
       "      <td id=\"T_1f137_row0_col0\" class=\"data row0 col0\" >size</td>\n",
       "      <td id=\"T_1f137_row0_col1\" class=\"data row0 col1\" >284</td>\n",
       "    </tr>\n",
       "    <tr>\n",
       "      <th id=\"T_1f137_level0_row1\" class=\"row_heading level0 row1\" >2</th>\n",
       "      <td id=\"T_1f137_row1_col0\" class=\"data row1 col0\" >material</td>\n",
       "      <td id=\"T_1f137_row1_col1\" class=\"data row1 col1\" >186</td>\n",
       "    </tr>\n",
       "    <tr>\n",
       "      <th id=\"T_1f137_level0_row2\" class=\"row_heading level0 row2\" >3</th>\n",
       "      <td id=\"T_1f137_row2_col0\" class=\"data row2 col0\" >ok</td>\n",
       "      <td id=\"T_1f137_row2_col1\" class=\"data row2 col1\" >152</td>\n",
       "    </tr>\n",
       "    <tr>\n",
       "      <th id=\"T_1f137_level0_row3\" class=\"row_heading level0 row3\" >4</th>\n",
       "      <td id=\"T_1f137_row3_col0\" class=\"data row3 col0\" >not_</td>\n",
       "      <td id=\"T_1f137_row3_col1\" class=\"data row3 col1\" >145</td>\n",
       "    </tr>\n",
       "    <tr>\n",
       "      <th id=\"T_1f137_level0_row4\" class=\"row_heading level0 row4\" >5</th>\n",
       "      <td id=\"T_1f137_row4_col0\" class=\"data row4 col0\" >delivery</td>\n",
       "      <td id=\"T_1f137_row4_col1\" class=\"data row4 col1\" >125</td>\n",
       "    </tr>\n",
       "    <tr>\n",
       "      <th id=\"T_1f137_level0_row5\" class=\"row_heading level0 row5\" >6</th>\n",
       "      <td id=\"T_1f137_row5_col0\" class=\"data row5 col0\" >design</td>\n",
       "      <td id=\"T_1f137_row5_col1\" class=\"data row5 col1\" >124</td>\n",
       "    </tr>\n",
       "    <tr>\n",
       "      <th id=\"T_1f137_level0_row6\" class=\"row_heading level0 row6\" >7</th>\n",
       "      <td id=\"T_1f137_row6_col0\" class=\"data row6 col0\" >fast</td>\n",
       "      <td id=\"T_1f137_row6_col1\" class=\"data row6 col1\" >123</td>\n",
       "    </tr>\n",
       "    <tr>\n",
       "      <th id=\"T_1f137_level0_row7\" class=\"row_heading level0 row7\" >8</th>\n",
       "      <td id=\"T_1f137_row7_col0\" class=\"data row7 col0\" >upthumbs</td>\n",
       "      <td id=\"T_1f137_row7_col1\" class=\"data row7 col1\" >120</td>\n",
       "    </tr>\n",
       "    <tr>\n",
       "      <th id=\"T_1f137_level0_row8\" class=\"row_heading level0 row8\" >9</th>\n",
       "      <td id=\"T_1f137_row8_col0\" class=\"data row8 col0\" >seller</td>\n",
       "      <td id=\"T_1f137_row8_col1\" class=\"data row8 col1\" >117</td>\n",
       "    </tr>\n",
       "    <tr>\n",
       "      <th id=\"T_1f137_level0_row9\" class=\"row_heading level0 row9\" >10</th>\n",
       "      <td id=\"T_1f137_row9_col0\" class=\"data row9 col0\" >receive</td>\n",
       "      <td id=\"T_1f137_row9_col1\" class=\"data row9 col1\" >115</td>\n",
       "    </tr>\n",
       "    <tr>\n",
       "      <th id=\"T_1f137_level0_row10\" class=\"row_heading level0 row10\" >11</th>\n",
       "      <td id=\"T_1f137_row10_col0\" class=\"data row10 col0\" >thank</td>\n",
       "      <td id=\"T_1f137_row10_col1\" class=\"data row10 col1\" >110</td>\n",
       "    </tr>\n",
       "    <tr>\n",
       "      <th id=\"T_1f137_level0_row11\" class=\"row_heading level0 row11\" >12</th>\n",
       "      <td id=\"T_1f137_row11_col0\" class=\"data row11 col0\" >quality</td>\n",
       "      <td id=\"T_1f137_row11_col1\" class=\"data row11 col1\" >105</td>\n",
       "    </tr>\n",
       "    <tr>\n",
       "      <th id=\"T_1f137_level0_row12\" class=\"row_heading level0 row12\" >13</th>\n",
       "      <td id=\"T_1f137_row12_col0\" class=\"data row12 col0\" >facepersevering</td>\n",
       "      <td id=\"T_1f137_row12_col1\" class=\"data row12 col1\" >98</td>\n",
       "    </tr>\n",
       "    <tr>\n",
       "      <th id=\"T_1f137_level0_row13\" class=\"row_heading level0 row13\" >14</th>\n",
       "      <td id=\"T_1f137_row13_col0\" class=\"data row13 col0\" >order</td>\n",
       "      <td id=\"T_1f137_row13_col1\" class=\"data row13 col1\" >84</td>\n",
       "    </tr>\n",
       "    <tr>\n",
       "      <th id=\"T_1f137_level0_row14\" class=\"row_heading level0 row14\" >15</th>\n",
       "      <td id=\"T_1f137_row14_col0\" class=\"data row14 col0\" >price</td>\n",
       "      <td id=\"T_1f137_row14_col1\" class=\"data row14 col1\" >82</td>\n",
       "    </tr>\n",
       "    <tr>\n",
       "      <th id=\"T_1f137_level0_row15\" class=\"row_heading level0 row15\" >16</th>\n",
       "      <td id=\"T_1f137_row15_col0\" class=\"data row15 col0\" >slipper</td>\n",
       "      <td id=\"T_1f137_row15_col1\" class=\"data row15 col1\" >80</td>\n",
       "    </tr>\n",
       "    <tr>\n",
       "      <th id=\"T_1f137_level0_row16\" class=\"row_heading level0 row16\" >17</th>\n",
       "      <td id=\"T_1f137_row16_col0\" class=\"data row16 col0\" >buy</td>\n",
       "      <td id=\"T_1f137_row16_col1\" class=\"data row16 col1\" >77</td>\n",
       "    </tr>\n",
       "    <tr>\n",
       "      <th id=\"T_1f137_level0_row17\" class=\"row_heading level0 row17\" >18</th>\n",
       "      <td id=\"T_1f137_row17_col0\" class=\"data row17 col0\" >nice</td>\n",
       "      <td id=\"T_1f137_row17_col1\" class=\"data row17 col1\" >74</td>\n",
       "    </tr>\n",
       "    <tr>\n",
       "      <th id=\"T_1f137_level0_row18\" class=\"row_heading level0 row18\" >19</th>\n",
       "      <td id=\"T_1f137_row18_col0\" class=\"data row18 col0\" >face</td>\n",
       "      <td id=\"T_1f137_row18_col1\" class=\"data row18 col1\" >73</td>\n",
       "    </tr>\n",
       "  </tbody>\n",
       "</table>\n"
      ],
      "text/plain": [
       "<pandas.io.formats.style.Styler at 0x1edb20d7c40>"
      ]
     },
     "execution_count": 56,
     "metadata": {},
     "output_type": "execute_result"
    }
   ],
   "source": [
    "top = Counter([item for sublist in df['filtered_tokenized_content'] for item in sublist])\n",
    "temp = pd.DataFrame(top.most_common(20))\n",
    "temp = temp.iloc[1:,:]\n",
    "temp.columns = ['Common_words','count']\n",
    "temp.style.background_gradient(cmap='Purples')"
   ]
  },
  {
   "cell_type": "markdown",
   "id": "c3c92f80",
   "metadata": {},
   "source": [
    "## get sentiment polarity"
   ]
  },
  {
   "cell_type": "code",
   "execution_count": 57,
   "id": "a5a10a7e",
   "metadata": {},
   "outputs": [
    {
     "name": "stdout",
     "output_type": "stream",
     "text": [
      "                                            text_string  predicted_sentiment  \\\n",
      "0     receive item not_ advertise thin light quality...            -0.010000   \n",
      "1                                   item not_ advertise             0.000000   \n",
      "2     thick picture receive thin slipper use rumor o...            -0.200000   \n",
      "3                            order green apart oren sad            -0.350000   \n",
      "4            oder black green arrive black yellow thumb            -0.133333   \n",
      "...                                                 ...                  ...   \n",
      "996                               not_ one show picture             0.000000   \n",
      "997                 good not_ right shipping service ok             0.352381   \n",
      "998                                   wrong colour size            -0.500000   \n",
      "999   price cheap not_ like last time expire lay pot...             0.066667   \n",
      "1000       overall not_ expect price argue like slipper             0.000000   \n",
      "\n",
      "     predicted_sentiment_category  \n",
      "0                        NEGATIVE  \n",
      "1                         NEUTRAL  \n",
      "2                        NEGATIVE  \n",
      "3                        NEGATIVE  \n",
      "4                        NEGATIVE  \n",
      "...                           ...  \n",
      "996                       NEUTRAL  \n",
      "997                      POSITIVE  \n",
      "998                      NEGATIVE  \n",
      "999                      POSITIVE  \n",
      "1000                      NEUTRAL  \n",
      "\n",
      "[1001 rows x 3 columns]\n"
     ]
    }
   ],
   "source": [
    "from textblob import TextBlob\n",
    "\n",
    "# Convert list of tokens to string\n",
    "df['text_string'] = df['filtered_tokenized_content'].apply(lambda tokens: ' '.join(tokens))\n",
    "\n",
    "# Apply TextBlob to get sentiment polarity\n",
    "df['predicted_sentiment'] = df['text_string'].apply(lambda text: TextBlob(text).sentiment.polarity)\n",
    "\n",
    "# Categorize sentiment based on polarity\n",
    "df['predicted_sentiment_category'] = df['predicted_sentiment'].apply(lambda score: 'POSITIVE' if score > 0 else 'NEGATIVE' if score < 0 else 'NEUTRAL')\n",
    "\n",
    "# Print the DataFrame with the additional columns\n",
    "print(df[['text_string', 'predicted_sentiment', 'predicted_sentiment_category']])\n"
   ]
  },
  {
   "cell_type": "code",
   "execution_count": 58,
   "id": "88db29d9",
   "metadata": {},
   "outputs": [
    {
     "name": "stdout",
     "output_type": "stream",
     "text": [
      "Comment: thick picture receive thin slipper use rumor old way\n",
      "Polarity: -0.20000000000000004\n",
      "Sentiment: NEGATIVE\n"
     ]
    }
   ],
   "source": [
    "print(\"Comment:\",df.text_string.iloc[2])\n",
    "print(\"Polarity:\",df.predicted_sentiment.iloc[2])\n",
    "print(\"Sentiment:\",df.predicted_sentiment_category.iloc[2])"
   ]
  },
  {
   "cell_type": "code",
   "execution_count": 59,
   "id": "5397f9e7",
   "metadata": {},
   "outputs": [
    {
     "name": "stdout",
     "output_type": "stream",
     "text": [
      "POSITIVE    685\n",
      "NEUTRAL     197\n",
      "NEGATIVE    119\n",
      "Name: predicted_sentiment_category, dtype: int64\n"
     ]
    },
    {
     "data": {
      "image/png": "[encoded data removed]",
      "text/plain": [
       "<Figure size 800x600 with 1 Axes>"
      ]
     },
     "metadata": {},
     "output_type": "display_data"
    }
   ],
   "source": [
    "import matplotlib.pyplot as plt\n",
    "import seaborn as sns\n",
    "\n",
    "# Count the occurrences of each sentiment\n",
    "sentiment_counts = df['predicted_sentiment_category'].value_counts()\n",
    "\n",
    "# Print the counts\n",
    "print(sentiment_counts)\n",
    "\n",
    "# Set the style for the plot\n",
    "sns.set(style=\"whitegrid\")\n",
    "\n",
    "# Choose a different color palette (e.g., 'Set2')\n",
    "colors = sns.color_palette('Set2')\n",
    "\n",
    "# Plot the sentiment distribution as a pie chart with different colors\n",
    "plt.figure(figsize=(8, 6))\n",
    "plt.pie(sentiment_counts, labels=sentiment_counts.index, autopct='%1.1f%%', colors=colors)\n",
    "plt.title('Sentiment Distribution')\n",
    "\n",
    "# Show the plot\n",
    "plt.show()\n"
   ]
  },
  {
   "cell_type": "code",
   "execution_count": 60,
   "id": "d7a7e3b4",
   "metadata": {},
   "outputs": [
    {
     "data": {
      "text/plain": [
       "<AxesSubplot:xlabel='predicted_sentiment_category', ylabel='count'>"
      ]
     },
     "execution_count": 60,
     "metadata": {},
     "output_type": "execute_result"
    },
    {
     "data": {
      "image/png": "[encoded data removed]",
      "text/plain": [
       "<Figure size 1200x600 with 1 Axes>"
      ]
     },
     "metadata": {},
     "output_type": "display_data"
    }
   ],
   "source": [
    "plt.figure(figsize=(12,6))\n",
    "sns.countplot(x='predicted_sentiment_category',data=df)"
   ]
  },
  {
   "cell_type": "markdown",
   "id": "b0267255",
   "metadata": {},
   "source": [
    "## train test split"
   ]
  },
  {
   "cell_type": "code",
   "execution_count": 61,
   "id": "50128741",
   "metadata": {},
   "outputs": [],
   "source": [
    "from sklearn.model_selection import train_test_split\n",
    "\n",
    "# Split the data into training and testing sets\n",
    "X_train, X_test, y_train, y_test = train_test_split(df['text_string'], df['predicted_sentiment_category'], test_size=0.2, random_state=42)\n"
   ]
  },
  {
   "cell_type": "markdown",
   "id": "ba06eb4c",
   "metadata": {},
   "source": [
    "## TF-IDF"
   ]
  },
  {
   "cell_type": "code",
   "execution_count": 62,
   "id": "eb0827e4",
   "metadata": {},
   "outputs": [],
   "source": [
    "from sklearn.feature_extraction.text import TfidfVectorizer\n",
    "from imblearn.over_sampling import RandomOverSampler\n",
    "\n",
    "\n",
    "# TF-IDF Vectorization\n",
    "cv = TfidfVectorizer(stop_words='english', max_features=2000)\n",
    "X_train_cv = cv.fit_transform(X_train) \n",
    "X_test_cv = cv.transform(X_test)\n",
    "\n",
    "# Convert the TF-IDF matrices to DataFrames\n",
    "X_train_df = pd.DataFrame(X_train_cv.toarray(), columns=cv.get_feature_names_out())\n",
    "X_test_df = pd.DataFrame(X_test_cv.toarray(), columns=cv.get_feature_names_out())"
   ]
  },
  {
   "cell_type": "markdown",
   "id": "1c0d0cee",
   "metadata": {},
   "source": [
    "### Checking classes' distribution"
   ]
  },
  {
   "cell_type": "code",
   "execution_count": 63,
   "id": "2124de8d",
   "metadata": {},
   "outputs": [
    {
     "data": {
      "text/plain": [
       "POSITIVE    685\n",
       "NEUTRAL     197\n",
       "NEGATIVE    119\n",
       "Name: predicted_sentiment_category, dtype: int64"
      ]
     },
     "execution_count": 63,
     "metadata": {},
     "output_type": "execute_result"
    }
   ],
   "source": [
    "df.predicted_sentiment_category.value_counts()"
   ]
  },
  {
   "cell_type": "markdown",
   "id": "266e6481",
   "metadata": {},
   "source": [
    "### It is imbalance! Let us balance the classes before modelling"
   ]
  },
  {
   "cell_type": "markdown",
   "id": "d5bbd642",
   "metadata": {},
   "source": [
    "## Oversampling"
   ]
  },
  {
   "cell_type": "code",
   "execution_count": 64,
   "id": "edb79dab",
   "metadata": {},
   "outputs": [],
   "source": [
    "oversampler = RandomOverSampler(random_state=42)\n",
    "X_train_resampled, y_train_resampled = oversampler.fit_resample(X_train_df, y_train)"
   ]
  },
  {
   "cell_type": "markdown",
   "id": "e3a32ddc",
   "metadata": {},
   "source": [
    "# Modelling"
   ]
  },
  {
   "cell_type": "markdown",
   "id": "5dfef0d1",
   "metadata": {},
   "source": [
    "## Logistic Regression"
   ]
  },
  {
   "cell_type": "markdown",
   "id": "7b59d984",
   "metadata": {},
   "source": [
    "### Without oversampler"
   ]
  },
  {
   "cell_type": "code",
   "execution_count": 65,
   "id": "d9534fc9",
   "metadata": {},
   "outputs": [
    {
     "name": "stdout",
     "output_type": "stream",
     "text": [
      "Training Class Distribution:\n",
      "POSITIVE    554\n",
      "NEUTRAL     158\n",
      "NEGATIVE     88\n",
      "Name: predicted_sentiment_category, dtype: int64\n",
      "\n",
      "Testing Class Distribution:\n",
      "POSITIVE    131\n",
      "NEUTRAL      39\n",
      "NEGATIVE     31\n",
      "Name: predicted_sentiment_category, dtype: int64\n",
      "Accuracy: 0.8706\n",
      "Classification Report:\n",
      "              precision    recall  f1-score   support\n",
      "\n",
      "    NEGATIVE       0.70      0.84      0.76        31\n",
      "     NEUTRAL       0.74      0.82      0.78        39\n",
      "    POSITIVE       0.97      0.89      0.93       131\n",
      "\n",
      "    accuracy                           0.87       201\n",
      "   macro avg       0.80      0.85      0.82       201\n",
      "weighted avg       0.88      0.87      0.87       201\n",
      "\n"
     ]
    }
   ],
   "source": [
    "import sklearn\n",
    "from sklearn.linear_model import LogisticRegression\n",
    "from sklearn.metrics import classification_report, accuracy_score\n",
    "import sklearn.metrics  \n",
    "\n",
    "# Print class distribution in the training set\n",
    "print(\"Training Class Distribution:\")\n",
    "print(y_train.value_counts())\n",
    "\n",
    "# Print class distribution in the testing set\n",
    "print(\"\\nTesting Class Distribution:\")\n",
    "print(y_test.value_counts())\n",
    "\n",
    "\n",
    "# Create and train the Logistic Regression model with balanced class weights\n",
    "logistic_regression_model = LogisticRegression(class_weight=\"balanced\", random_state=42, C=1.4)\n",
    "logistic_regression_model.fit(X_train_df, y_train)\n",
    "\n",
    "# Make predictions on the test set\n",
    "y_pred = logistic_regression_model.predict(X_test_df)\n",
    "\n",
    "# Evaluate the model\n",
    "accuracy = accuracy_score(y_test, y_pred)\n",
    "report = classification_report(y_test, y_pred)\n",
    "\n",
    "print(f'Accuracy: {accuracy:.4f}')\n",
    "print('Classification Report:')\n",
    "print(report)\n"
   ]
  },
  {
   "cell_type": "markdown",
   "id": "3287c693",
   "metadata": {},
   "source": [
    "### With oversampler"
   ]
  },
  {
   "cell_type": "code",
   "execution_count": 66,
   "id": "e9f8f812",
   "metadata": {},
   "outputs": [
    {
     "name": "stdout",
     "output_type": "stream",
     "text": [
      "Training Class Distribution:\n",
      "NEUTRAL     554\n",
      "POSITIVE    554\n",
      "NEGATIVE    554\n",
      "Name: predicted_sentiment_category, dtype: int64\n",
      "\n",
      "Testing Class Distribution:\n",
      "POSITIVE    131\n",
      "NEUTRAL      39\n",
      "NEGATIVE     31\n",
      "Name: predicted_sentiment_category, dtype: int64\n",
      "Accuracy: 0.8905\n",
      "Classification Report:\n",
      "              precision    recall  f1-score   support\n",
      "\n",
      "    NEGATIVE       0.72      0.84      0.78        31\n",
      "     NEUTRAL       0.80      0.85      0.83        39\n",
      "    POSITIVE       0.97      0.92      0.94       131\n",
      "\n",
      "    accuracy                           0.89       201\n",
      "   macro avg       0.83      0.87      0.85       201\n",
      "weighted avg       0.90      0.89      0.89       201\n",
      "\n"
     ]
    }
   ],
   "source": [
    "# Print class distribution in the training set\n",
    "print(\"Training Class Distribution:\")\n",
    "print(y_train_resampled.value_counts())\n",
    "\n",
    "# Print class distribution in the testing set\n",
    "print(\"\\nTesting Class Distribution:\")\n",
    "print(y_test.value_counts())\n",
    "\n",
    "\n",
    "# Create and train the Logistic Regression model with balanced class weights\n",
    "logistic_regression_model = LogisticRegression(class_weight=\"balanced\", random_state=42, C=1.4)\n",
    "logistic_regression_model.fit(X_train_resampled, y_train_resampled)\n",
    "\n",
    "# Make predictions on the test set\n",
    "y_pred = logistic_regression_model.predict(X_test_df)\n",
    "\n",
    "# Evaluate the model\n",
    "accuracy = accuracy_score(y_test, y_pred)\n",
    "report = classification_report(y_test, y_pred)\n",
    "\n",
    "print(f'Accuracy: {accuracy:.4f}')\n",
    "print('Classification Report:')\n",
    "print(report)\n"
   ]
  },
  {
   "cell_type": "code",
   "execution_count": 67,
   "id": "9387dd82",
   "metadata": {},
   "outputs": [
    {
     "data": {
      "image/png": "[encoded data removed]",
      "text/plain": [
       "<Figure size 800x600 with 2 Axes>"
      ]
     },
     "metadata": {},
     "output_type": "display_data"
    }
   ],
   "source": [
    "import matplotlib.pyplot as plt\n",
    "import seaborn as sns\n",
    "from sklearn.metrics import confusion_matrix\n",
    "\n",
    "# Compute confusion matrix\n",
    "cm_lr = confusion_matrix(y_test, y_pred)\n",
    "\n",
    "# Plot confusion matrix\n",
    "plt.figure(figsize=(8, 6))\n",
    "sns.heatmap(cm_lr, annot=True, fmt='d', cmap='Blues', xticklabels=['NEGATIVE', 'NEUTRAL', 'POSITIVE'], yticklabels=['NEGATIVE', 'NEUTRAL', 'POSITIVE'])\n",
    "plt.title('Logistic Regression Confusion Matrix')\n",
    "plt.xlabel('Predicted Label')\n",
    "plt.ylabel('True Label')\n",
    "plt.show()"
   ]
  },
  {
   "cell_type": "code",
   "execution_count": 68,
   "id": "49e26920",
   "metadata": {},
   "outputs": [
    {
     "data": {
      "image/png": "[encoded data removed]",
      "text/plain": [
       "<Figure size 1000x600 with 1 Axes>"
      ]
     },
     "metadata": {},
     "output_type": "display_data"
    }
   ],
   "source": [
    "# Combine actual and predicted sentiments into a DataFrame\n",
    "comparison_df_lr = pd.DataFrame({'Actual': y_test, 'Predicted': y_pred})\n",
    "\n",
    "# Count the occurrences of each combination\n",
    "comparison_counts_lr = comparison_df_lr.groupby(['Actual', 'Predicted']).size().unstack(fill_value=0)\n",
    "\n",
    "# Plot the bar plot\n",
    "comparison_counts_lr.plot(kind='bar', stacked=True, cmap='viridis', figsize=(10, 6))\n",
    "plt.title('Actual vs Predicted Sentiments (Logistic Regression Model)')\n",
    "plt.xlabel('Sentiment Category')\n",
    "plt.ylabel('Count')\n",
    "plt.show()"
   ]
  },
  {
   "cell_type": "markdown",
   "id": "0ba6b6d5",
   "metadata": {},
   "source": [
    "# SVM"
   ]
  },
  {
   "cell_type": "markdown",
   "id": "57df7b0b",
   "metadata": {},
   "source": [
    "### Without oversampler"
   ]
  },
  {
   "cell_type": "code",
   "execution_count": 69,
   "id": "637d4015",
   "metadata": {},
   "outputs": [
    {
     "name": "stdout",
     "output_type": "stream",
     "text": [
      "Training Class Distribution:\n",
      "POSITIVE    554\n",
      "NEUTRAL     158\n",
      "NEGATIVE     88\n",
      "Name: predicted_sentiment_category, dtype: int64\n",
      "\n",
      "Testing Class Distribution:\n",
      "POSITIVE    131\n",
      "NEUTRAL      39\n",
      "NEGATIVE     31\n",
      "Name: predicted_sentiment_category, dtype: int64\n",
      "Accuracy: 0.8756\n",
      "Classification Report:\n",
      "              precision    recall  f1-score   support\n",
      "\n",
      "    NEGATIVE       0.78      0.81      0.79        31\n",
      "     NEUTRAL       0.70      0.85      0.77        39\n",
      "    POSITIVE       0.97      0.90      0.93       131\n",
      "\n",
      "    accuracy                           0.88       201\n",
      "   macro avg       0.82      0.85      0.83       201\n",
      "weighted avg       0.89      0.88      0.88       201\n",
      "\n"
     ]
    }
   ],
   "source": [
    "import sklearn\n",
    "from sklearn.svm import SVC\n",
    "from sklearn.metrics import classification_report, accuracy_score\n",
    "\n",
    "# Print class distribution in the training set\n",
    "print(\"Training Class Distribution:\")\n",
    "print(y_train.value_counts())\n",
    "\n",
    "# Print class distribution in the testing set\n",
    "print(\"\\nTesting Class Distribution:\")\n",
    "print(y_test.value_counts())\n",
    "\n",
    "# Create and train the SVM model without oversampling\n",
    "svm_model_no_oversampling = SVC(kernel='linear', class_weight='balanced', random_state=42)\n",
    "svm_model_no_oversampling.fit(X_train_df, y_train)\n",
    "\n",
    "# Make predictions on the test set without oversampling\n",
    "y_pred_svm_no_oversampling = svm_model_no_oversampling.predict(X_test_df)\n",
    "\n",
    "# Evaluate the SVM model without oversampling\n",
    "accuracy_svm_no_oversampling = accuracy_score(y_test, y_pred_svm_no_oversampling)\n",
    "report_svm_no_oversampling = classification_report(y_test, y_pred_svm_no_oversampling)\n",
    "\n",
    "print(f'Accuracy: {accuracy_svm_no_oversampling:.4f}')\n",
    "print('Classification Report:')\n",
    "print(report_svm_no_oversampling)\n"
   ]
  },
  {
   "cell_type": "markdown",
   "id": "0eeb90d5",
   "metadata": {},
   "source": [
    "### With oversampler"
   ]
  },
  {
   "cell_type": "code",
   "execution_count": 72,
   "id": "31d38bcc",
   "metadata": {},
   "outputs": [
    {
     "name": "stdout",
     "output_type": "stream",
     "text": [
      "Training Class Distribution:\n",
      "NEUTRAL     554\n",
      "POSITIVE    554\n",
      "NEGATIVE    554\n",
      "Name: predicted_sentiment_category, dtype: int64\n",
      "\n",
      "Testing Class Distribution:\n",
      "POSITIVE    131\n",
      "NEUTRAL      39\n",
      "NEGATIVE     31\n",
      "Name: predicted_sentiment_category, dtype: int64\n",
      "Accuracy: 0.8856\n",
      "Classification Report:\n",
      "              precision    recall  f1-score   support\n",
      "\n",
      "    NEGATIVE       0.73      0.77      0.75        31\n",
      "     NEUTRAL       0.76      0.87      0.81        39\n",
      "    POSITIVE       0.98      0.92      0.94       131\n",
      "\n",
      "    accuracy                           0.89       201\n",
      "   macro avg       0.82      0.85      0.83       201\n",
      "weighted avg       0.89      0.89      0.89       201\n",
      "\n"
     ]
    }
   ],
   "source": [
    "from sklearn.metrics import classification_report, accuracy_score\n",
    "from imblearn.over_sampling import RandomOverSampler\n",
    "\n",
    "# Print class distribution in the training set\n",
    "print(\"Training Class Distribution:\")\n",
    "print(y_train_resampled.value_counts())\n",
    "\n",
    "# Print class distribution in the testing set\n",
    "print(\"\\nTesting Class Distribution:\")\n",
    "print(y_test.value_counts())\n",
    "\n",
    "# Create and apply oversampler\n",
    "oversampler = RandomOverSampler(random_state=42)\n",
    "X_train_resampled, y_train_resampled = oversampler.fit_resample(X_train_df, y_train)\n",
    "\n",
    "c_values=[0.90]\n",
    "\n",
    "for c in c_values:\n",
    "    # Create and train the SVM model with oversampling\n",
    "    svm_model_with_oversampling = SVC(kernel='linear', class_weight='balanced',C=c, random_state=42)\n",
    "    svm_model_with_oversampling.fit(X_train_resampled, y_train_resampled)\n",
    "\n",
    "\n",
    "    # Make predictions on the test set with oversampling\n",
    "    y_pred_svm_with_oversampling = svm_model_with_oversampling.predict(X_test_df)\n",
    "\n",
    "    # Evaluate the SVM model with oversampling\n",
    "    accuracy_svm_with_oversampling = accuracy_score(y_test, y_pred_svm_with_oversampling)\n",
    "    report_svm_with_oversampling = classification_report(y_test, y_pred_svm_with_oversampling)\n",
    "\n",
    "    print(f'Accuracy: {accuracy_svm_with_oversampling:.4f}')\n",
    "    print('Classification Report:')\n",
    "    print(report_svm_with_oversampling)\n"
   ]
  },
  {
   "cell_type": "code",
   "execution_count": 73,
   "id": "7040e445",
   "metadata": {},
   "outputs": [
    {
     "data": {
      "image/png": "[encoded data removed]",
      "text/plain": [
       "<Figure size 800x600 with 2 Axes>"
      ]
     },
     "metadata": {},
     "output_type": "display_data"
    }
   ],
   "source": [
    "import matplotlib.pyplot as plt\n",
    "import seaborn as sns\n",
    "from sklearn.metrics import confusion_matrix\n",
    "\n",
    "# Compute confusion matrix\n",
    "cm_svm = confusion_matrix(y_test,y_pred_svm_with_oversampling)\n",
    "\n",
    "# Plot confusion matrix\n",
    "plt.figure(figsize=(8, 6))\n",
    "sns.heatmap(cm_svm, annot=True, fmt='d', cmap='Blues', xticklabels=['NEGATIVE', 'NEUTRAL', 'POSITIVE'], yticklabels=['NEGATIVE', 'NEUTRAL', 'POSITIVE'])\n",
    "plt.title('SVM Model Confusion Matrix')\n",
    "plt.xlabel('Predicted Label')\n",
    "plt.ylabel('True Label')\n",
    "plt.show()\n"
   ]
  },
  {
   "cell_type": "code",
   "execution_count": 74,
   "id": "986c5ada",
   "metadata": {},
   "outputs": [
    {
     "data": {
      "image/png": "[encoded data removed]",
      "text/plain": [
       "<Figure size 1000x600 with 1 Axes>"
      ]
     },
     "metadata": {},
     "output_type": "display_data"
    }
   ],
   "source": [
    "# Combine actual and predicted sentiments into a DataFrame\n",
    "comparison_df = pd.DataFrame({'Actual': y_test, 'Predicted': y_pred_svm_with_oversampling})\n",
    "\n",
    "# Count the occurrences of each combination\n",
    "comparison_counts = comparison_df.groupby(['Actual', 'Predicted']).size().unstack(fill_value=0)\n",
    "\n",
    "# Plot the bar plot\n",
    "comparison_counts.plot(kind='bar', stacked=True, cmap='viridis', figsize=(10, 6))\n",
    "plt.title('Actual vs Predicted Sentiments (SVM Model)')\n",
    "plt.xlabel('Sentiment Category')\n",
    "plt.ylabel('Count')\n",
    "plt.show()\n"
   ]
  },
  {
   "cell_type": "markdown",
   "id": "00b11ccf",
   "metadata": {},
   "source": [
    "## Multinomial Naive Bayes"
   ]
  },
  {
   "cell_type": "markdown",
   "id": "dd934a03",
   "metadata": {},
   "source": [
    "### Without oversampler"
   ]
  },
  {
   "cell_type": "code",
   "execution_count": 578,
   "id": "24f2981b",
   "metadata": {},
   "outputs": [
    {
     "name": "stdout",
     "output_type": "stream",
     "text": [
      "Training Class Distribution:\n",
      "POSITIVE    554\n",
      "NEUTRAL     158\n",
      "NEGATIVE     88\n",
      "Name: predicted_sentiment_category, dtype: int64\n",
      "\n",
      "Testing Class Distribution:\n",
      "POSITIVE    131\n",
      "NEUTRAL      39\n",
      "NEGATIVE     31\n",
      "Name: predicted_sentiment_category, dtype: int64\n",
      "\n",
      "Accuracy: 0.6716\n",
      "Precision: 0.7817\n",
      "Recall: 0.6716\n",
      "F1-score: 0.5580\n",
      "Classification Report:\n",
      "              precision    recall  f1-score   support\n",
      "\n",
      "    NEGATIVE       1.00      0.03      0.06        31\n",
      "     NEUTRAL       1.00      0.08      0.14        39\n",
      "    POSITIVE       0.66      1.00      0.80       131\n",
      "\n",
      "    accuracy                           0.67       201\n",
      "   macro avg       0.89      0.37      0.33       201\n",
      "weighted avg       0.78      0.67      0.56       201\n",
      "\n"
     ]
    }
   ],
   "source": [
    "from sklearn.naive_bayes import MultinomialNB\n",
    "from sklearn.metrics import classification_report, accuracy_score, precision_score, recall_score, f1_score\n",
    "\n",
    "# Print class distribution in the training set\n",
    "print(\"Training Class Distribution:\")\n",
    "print(y_train.value_counts())\n",
    "\n",
    "# Print class distribution in the testing set\n",
    "print(\"\\nTesting Class Distribution:\")\n",
    "print(y_test.value_counts())\n",
    "\n",
    "# Create and train the Multinomial Naive Bayes model\n",
    "multinomial_nb_model_no_oversampler = MultinomialNB()\n",
    "multinomial_nb_model_no_oversampler.fit(X_train_df, y_train)\n",
    "\n",
    "# Make predictions on the test set\n",
    "y_pred = multinomial_nb_model_no_oversampler.predict(X_test_df)\n",
    "\n",
    "# Evaluate the model\n",
    "accuracy = accuracy_score(y_test, y_pred)\n",
    "precision = precision_score(y_test, y_pred, average='weighted')\n",
    "recall = recall_score(y_test, y_pred, average='weighted')\n",
    "f1 = f1_score(y_test, y_pred, average='weighted')\n",
    "report = classification_report(y_test, y_pred)\n",
    "\n",
    "print(f'\\nAccuracy: {accuracy:.4f}')\n",
    "print(f'Precision: {precision:.4f}')\n",
    "print(f'Recall: {recall:.4f}')\n",
    "print(f'F1-score: {f1:.4f}')\n",
    "print('Classification Report:')\n",
    "print(report)\n"
   ]
  },
  {
   "cell_type": "markdown",
   "id": "616a6a64",
   "metadata": {},
   "source": [
    "### With oversampler"
   ]
  },
  {
   "cell_type": "code",
   "execution_count": 579,
   "id": "7ef03258",
   "metadata": {},
   "outputs": [
    {
     "name": "stdout",
     "output_type": "stream",
     "text": [
      "Training Class Distribution:\n",
      "NEUTRAL     554\n",
      "POSITIVE    554\n",
      "NEGATIVE    554\n",
      "Name: predicted_sentiment_category, dtype: int64\n",
      "\n",
      "Testing Class Distribution:\n",
      "POSITIVE    131\n",
      "NEUTRAL      39\n",
      "NEGATIVE     31\n",
      "Name: predicted_sentiment_category, dtype: int64\n",
      "\n",
      "Accuracy: 0.8856\n",
      "Precision: 0.8963\n",
      "Recall: 0.8856\n",
      "F1-score: 0.8881\n",
      "Classification Report:\n",
      "              precision    recall  f1-score   support\n",
      "\n",
      "    NEGATIVE       0.68      0.87      0.76        31\n",
      "     NEUTRAL       0.88      0.77      0.82        39\n",
      "    POSITIVE       0.95      0.92      0.94       131\n",
      "\n",
      "    accuracy                           0.89       201\n",
      "   macro avg       0.84      0.85      0.84       201\n",
      "weighted avg       0.90      0.89      0.89       201\n",
      "\n"
     ]
    }
   ],
   "source": [
    "from sklearn.naive_bayes import MultinomialNB\n",
    "from sklearn.metrics import classification_report, accuracy_score, precision_score, recall_score, f1_score\n",
    "\n",
    "# Print class distribution in the training set\n",
    "print(\"Training Class Distribution:\")\n",
    "print(y_train_resampled.value_counts())\n",
    "\n",
    "# Print class distribution in the testing set\n",
    "print(\"\\nTesting Class Distribution:\")\n",
    "print(y_test.value_counts())\n",
    "\n",
    "# Create and train the Multinomial Naive Bayes model\n",
    "multinomial_nb_model = MultinomialNB()\n",
    "multinomial_nb_model.fit(X_train_resampled, y_train_resampled)\n",
    "\n",
    "# Make predictions on the test set\n",
    "y_pred = multinomial_nb_model.predict(X_test_df)\n",
    "\n",
    "# Evaluate the model\n",
    "accuracy = accuracy_score(y_test, y_pred)\n",
    "precision = precision_score(y_test, y_pred, average='weighted')\n",
    "recall = recall_score(y_test, y_pred, average='weighted')\n",
    "f1 = f1_score(y_test, y_pred, average='weighted')\n",
    "report = classification_report(y_test, y_pred)\n",
    "\n",
    "print(f'\\nAccuracy: {accuracy:.4f}')\n",
    "print(f'Precision: {precision:.4f}')\n",
    "print(f'Recall: {recall:.4f}')\n",
    "print(f'F1-score: {f1:.4f}')\n",
    "print('Classification Report:')\n",
    "print(report)\n"
   ]
  },
  {
   "cell_type": "code",
   "execution_count": 580,
   "id": "b058001b",
   "metadata": {},
   "outputs": [
    {
     "data": {
      "image/png": "[encoded data removed]",
      "text/plain": [
       "<Figure size 800x600 with 2 Axes>"
      ]
     },
     "metadata": {},
     "output_type": "display_data"
    }
   ],
   "source": [
    "import matplotlib.pyplot as plt\n",
    "import seaborn as sns\n",
    "from sklearn.metrics import confusion_matrix\n",
    "\n",
    "# Compute confusion matrix\n",
    "cm_MNB = confusion_matrix(y_test, y_pred)\n",
    "\n",
    "# Plot confusion matrix\n",
    "plt.figure(figsize=(8, 6))\n",
    "sns.heatmap(cm_MNB, annot=True, fmt='d', cmap='Blues', xticklabels=['NEGATIVE', 'NEUTRAL', 'POSITIVE'], yticklabels=['NEGATIVE', 'NEUTRAL', 'POSITIVE'])\n",
    "plt.title(' Model Confusion Matrix')\n",
    "plt.xlabel('Predicted Label')\n",
    "plt.ylabel('True Label')\n",
    "plt.show()\n"
   ]
  },
  {
   "cell_type": "code",
   "execution_count": 581,
   "id": "0350c13d",
   "metadata": {},
   "outputs": [
    {
     "data": {
      "image/png": "[encoded data removed]",
      "text/plain": [
       "<Figure size 1000x600 with 1 Axes>"
      ]
     },
     "metadata": {},
     "output_type": "display_data"
    }
   ],
   "source": [
    "# Combine actual and predicted sentiments into a DataFrame\n",
    "comparison_df_MNB = pd.DataFrame({'Actual': y_test, 'Predicted': y_pred})\n",
    "\n",
    "# Count the occurrences of each combination\n",
    "comparison_counts_MNB = comparison_df_lr.groupby(['Actual', 'Predicted']).size().unstack(fill_value=0)\n",
    "\n",
    "# Plot the bar plot\n",
    "comparison_counts_MNB.plot(kind='bar', stacked=True, cmap='viridis', figsize=(10, 6))\n",
    "plt.title('Actual vs Predicted Sentiments (Multinomial Naive Bayes Model)')\n",
    "plt.xlabel('Sentiment Category')\n",
    "plt.ylabel('Count')\n",
    "plt.show()"
   ]
  },
  {
   "cell_type": "markdown",
   "id": "4b0718d3",
   "metadata": {},
   "source": [
    "## Deployment"
   ]
  },
  {
   "cell_type": "code",
   "execution_count": 582,
   "id": "57425611",
   "metadata": {},
   "outputs": [],
   "source": [
    "# Preprocess function\n",
    "def preprocess_sentence(sentence):\n",
    "    sentence = sentence.lower()\n",
    "    sentence = remove_newline_characters(sentence)\n",
    "    sentence = replace_with_custom_dict(sentence, custom_dict)\n",
    "    sentence = convert_emojis_to_word(sentence)\n",
    "    sentence = remove_emojis(sentence)\n",
    "\n",
    "    sentence = translate_text(sentence, target_language='en')\n",
    "    sentence = correct_spelling(sentence)\n",
    "    sentence = remove_punctuation(sentence)\n",
    "    tokens = tokenize_english(sentence)\n",
    "    lemmatized_tokens = lemmatize_english(tokens)\n",
    "    filtered_tokens = remove_english_stopwords(lemmatized_tokens)\n",
    "    text_string = ' '.join(filtered_tokens)\n",
    "    return text_string\n"
   ]
  },
  {
   "cell_type": "code",
   "execution_count": null,
   "id": "5096903c",
   "metadata": {},
   "outputs": [],
   "source": [
    "import tkinter as tk\n",
    "from tkinter import ttk\n",
    "\n",
    "# Function to handle button click event\n",
    "def analyze_sentiment():\n",
    "    user_sentence = entry.get()\n",
    "    preprocessed_sentence = preprocess_sentence(user_sentence)\n",
    "    sentence_vectorized = cv.transform([preprocessed_sentence])\n",
    "    prediction = logistic_regression_model.predict(sentence_vectorized)\n",
    "    \n",
    "    # Configure font color based on sentiment\n",
    "    if prediction[0] == 'POSITIVE':\n",
    "        result_label.config(text=f\"Predicted Sentiment: {prediction[0]}\", foreground='green')\n",
    "    elif prediction[0] == 'NEUTRAL':\n",
    "        result_label.config(text=f\"Predicted Sentiment: {prediction[0]}\", foreground='blue')\n",
    "    elif prediction[0] == 'NEGATIVE':\n",
    "        result_label.config(text=f\"Predicted Sentiment: {prediction[0]}\", foreground='red')\n",
    "\n",
    "# Create main window\n",
    "window = tk.Tk()\n",
    "window.title(\"Sentiment Analysis App\")\n",
    "\n",
    "# Change background color\n",
    "window.configure(bg='#FCF6F5')\n",
    "\n",
    "# Create and place widgets\n",
    "label = ttk.Label(window, text=\"Enter a sentence:\")\n",
    "label.grid(row=0, column=0, padx=10, pady=10)\n",
    "\n",
    "entry = ttk.Entry(window, width=40)\n",
    "entry.grid(row=0, column=1, padx=10, pady=10)\n",
    "\n",
    "# Set button style\n",
    "style = ttk.Style()\n",
    "style.configure('TButton', font=('Helvetica', 12))\n",
    "\n",
    "# Create button with custom styling\n",
    "analyze_button = tk.Button(window, text=\"Analyze Sentiment\", command=analyze_sentiment, bg='#990011', fg='white', font=('Helvetica', 12))\n",
    "analyze_button.grid(row=1, column=0, columnspan=2, pady=10)\n",
    "\n",
    "# Hover color\n",
    "analyze_button.bind(\"<Enter>\", lambda e: analyze_button.config(bg='#cc0022'))\n",
    "analyze_button.bind(\"<Leave>\", lambda e: analyze_button.config(bg='#990011'))\n",
    "\n",
    "result_label = ttk.Label(window, text=\"\")\n",
    "result_label.grid(row=2, column=0, columnspan=2, pady=10)\n",
    "\n",
    "# Run the main loop\n",
    "window.mainloop()\n"
   ]
  },
  {
   "cell_type": "code",
   "execution_count": null,
   "id": "ec675d9c",
   "metadata": {},
   "outputs": [],
   "source": []
  },
  {
   "cell_type": "code",
   "execution_count": null,
   "id": "ad77bb56",
   "metadata": {},
   "outputs": [],
   "source": []
  },
  {
   "cell_type": "code",
   "execution_count": null,
   "id": "f091374b",
   "metadata": {},
   "outputs": [],
   "source": []
  }
 ],
 "metadata": {
  "kernelspec": {
   "display_name": "Python 3 (ipykernel)",
   "language": "python",
   "name": "python3"
  },
  "language_info": {
   "codemirror_mode": {
    "name": "ipython",
    "version": 3
   },
   "file_extension": ".py",
   "mimetype": "text/x-python",
   "name": "python",
   "nbconvert_exporter": "python",
   "pygments_lexer": "ipython3",
   "version": "3.9.13"
  }
 },
 "nbformat": 4,
 "nbformat_minor": 5
}
